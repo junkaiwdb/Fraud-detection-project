{
  "cells": [
    {
      "cell_type": "markdown",
      "metadata": {
        "id": "4ii_SFWEZxUx"
      },
      "source": [
        "# Project for IT1244 **(Fraud in Electricity and Gas Consumption Dataset)**"
      ]
    },
    {
      "cell_type": "markdown",
      "metadata": {
        "id": "umKX2EmhtliE"
      },
      "source": [
        "## Importing dataset, libraries and reading files"
      ]
    },
    {
      "cell_type": "code",
      "execution_count": 46,
      "metadata": {
        "id": "EcXN805lZxUz"
      },
      "outputs": [
        {
          "ename": "ModuleNotFoundError",
          "evalue": "No module named 'xgboost'",
          "output_type": "error",
          "traceback": [
            "\u001b[0;31m---------------------------------------------------------------------------\u001b[0m",
            "\u001b[0;31mModuleNotFoundError\u001b[0m                       Traceback (most recent call last)",
            "\u001b[1;32m/Users/edricyeo/Desktop/NUS/Y3S1/IT1244/Proj/IT1244_Team45_Project/IT1244_Team45_Project.ipynb Cell 3\u001b[0m line \u001b[0;36m2\n\u001b[1;32m     <a href='vscode-notebook-cell:/Users/edricyeo/Desktop/NUS/Y3S1/IT1244/Proj/IT1244_Team45_Project/IT1244_Team45_Project.ipynb#W2sZmlsZQ%3D%3D?line=20'>21</a>\u001b[0m \u001b[39mfrom\u001b[39;00m \u001b[39msklearn\u001b[39;00m\u001b[39m.\u001b[39;00m\u001b[39mfeature_selection\u001b[39;00m \u001b[39mimport\u001b[39;00m RFE\n\u001b[1;32m     <a href='vscode-notebook-cell:/Users/edricyeo/Desktop/NUS/Y3S1/IT1244/Proj/IT1244_Team45_Project/IT1244_Team45_Project.ipynb#W2sZmlsZQ%3D%3D?line=21'>22</a>\u001b[0m \u001b[39mfrom\u001b[39;00m \u001b[39msklearn\u001b[39;00m\u001b[39m.\u001b[39;00m\u001b[39mensemble\u001b[39;00m \u001b[39mimport\u001b[39;00m RandomForestClassifier\n\u001b[0;32m---> <a href='vscode-notebook-cell:/Users/edricyeo/Desktop/NUS/Y3S1/IT1244/Proj/IT1244_Team45_Project/IT1244_Team45_Project.ipynb#W2sZmlsZQ%3D%3D?line=23'>24</a>\u001b[0m \u001b[39mfrom\u001b[39;00m \u001b[39mxgboost\u001b[39;00m \u001b[39mimport\u001b[39;00m XGBClassifier\n",
            "\u001b[0;31mModuleNotFoundError\u001b[0m: No module named 'xgboost'"
          ]
        }
      ],
      "source": [
        "# import libraries and packages\n",
        "import numpy as np\n",
        "import pandas as pd\n",
        "import matplotlib.pyplot as plt\n",
        "import seaborn as sns\n",
        "import math\n",
        "from sklearn.model_selection import train_test_split\n",
        "from sklearn.metrics import confusion_matrix, roc_auc_score, roc_curve, classification_report\n",
        "from sklearn.linear_model import LogisticRegression\n",
        "from sklearn.neighbors import KNeighborsClassifier\n",
        "from sklearn.utils import class_weight\n",
        "from sklearn.utils.class_weight import compute_sample_weight\n",
        "from sklearn.metrics import auc\n",
        "\n",
        "\n",
        "from sklearn.model_selection import cross_val_score\n",
        "from sklearn.metrics import make_scorer, recall_score\n",
        "from sklearn.preprocessing import MinMaxScaler\n",
        "from sklearn.compose import ColumnTransformer\n",
        "from sklearn.preprocessing import OneHotEncoder\n",
        "from sklearn.feature_selection import RFE\n",
        "from sklearn.ensemble import RandomForestClassifier\n",
        "\n",
        "from xgboost import XGBClassifier"
      ]
    },
    {
      "cell_type": "markdown",
      "metadata": {
        "id": "p0-SRx_jZxU0"
      },
      "source": [
        "Read in the data"
      ]
    },
    {
      "cell_type": "code",
      "execution_count": 5,
      "metadata": {
        "colab": {
          "base_uri": "https://localhost:8080/",
          "height": 245
        },
        "id": "mgEuPueeZxU0",
        "outputId": "eb00394b-4f63-4717-fa21-3fcaebe5b2cf"
      },
      "outputs": [],
      "source": [
        "# Read the CSV file\n",
        "# client_data = pd.read_csv(io.BytesIO(uploaded['client.csv']))\n",
        "# invoice_data = pd.read_csv(io.BytesIO(uploaded['invoice.csv']))\n",
        "client_data = pd.read_csv(\"client.csv\")\n",
        "invoice_data = pd.read_csv(\"invoice.csv\")"
      ]
    },
    {
      "cell_type": "markdown",
      "metadata": {
        "id": "FHgxC1cfZxU1"
      },
      "source": [
        "##Explore Data"
      ]
    },
    {
      "cell_type": "code",
      "execution_count": 6,
      "metadata": {
        "colab": {
          "base_uri": "https://localhost:8080/"
        },
        "id": "glGGGJeYiV-k",
        "outputId": "e72fe1ea-996c-4ccc-80a0-3a67802f6fdf"
      },
      "outputs": [
        {
          "name": "stdout",
          "output_type": "stream",
          "text": [
            "Number of unique id in client_data : 135493\n",
            "Number of unique id in invoice_data : 31603\n"
          ]
        }
      ],
      "source": [
        "# Number of unique ids in client_data and invoice_data\n",
        "unique_ids_in_client_data = client_data.id.unique()\n",
        "unique_ids_in_invoice_data = invoice_data.id.unique()\n",
        "print(f\"Number of unique id in client_data : {len(unique_ids_in_client_data)}\")\n",
        "print(f\"Number of unique id in invoice_data : {len(unique_ids_in_invoice_data)}\")"
      ]
    },
    {
      "cell_type": "markdown",
      "metadata": {
        "id": "9HV3g3lBZxU1"
      },
      "source": [
        "Notice that we have **135493 clients** in `client_data` but only **31603 (~ 23%)** of them are in `invoice_data`.\n",
        "\n",
        "We will discard clients which we do not have invoice data.\n",
        "\n",
        "This is because the goal of the model is to predict fraudulent manipulations of meters through customer's **consumption behaviour**.\n",
        "\n",
        "However, without any invoice data, we are not able to observe their consumption behavior.\n",
        "\n",
        "We create `client_data_with_invoice`, which are clients which we have invoice data.\n",
        "\n",
        "These clients are from `train_Client_0` to `train_Client_128439`, there are **31603** such clients."
      ]
    },
    {
      "cell_type": "code",
      "execution_count": 7,
      "metadata": {
        "id": "Glon02m5ZxU1"
      },
      "outputs": [],
      "source": [
        "# We now only consider clients who have invoice data\n",
        "unique_ids_in_invoice_data = invoice_data.id.unique()\n",
        "clients_with_invoice = client_data[client_data['id'].isin(unique_ids_in_invoice_data)]"
      ]
    },
    {
      "cell_type": "code",
      "execution_count": 8,
      "metadata": {
        "colab": {
          "base_uri": "https://localhost:8080/"
        },
        "id": "O4WUDNffZxU1",
        "outputId": "0d398bcd-1fc6-498b-f6da-af652677daf2"
      },
      "outputs": [
        {
          "name": "stdout",
          "output_type": "stream",
          "text": [
            "0 id\n",
            "1 date\n",
            "2 tarif_type\n",
            "3 counter_number\n",
            "4 counter_statue\n",
            "5 counter_code\n",
            "6 reading_remarque\n",
            "7 consommation_level_4\n",
            "8 old_index\n",
            "9 new_index\n",
            "10 months_number\n",
            "11 counter_type\n",
            "12 counter_coefficient\n",
            "13 consommation_level_1\n",
            "14 consommation_level_2\n",
            "15 consommation_level_3\n"
          ]
        }
      ],
      "source": [
        "# Get invoice_data of each unique client\n",
        "invoice_data_grouped_by_id = invoice_data.groupby('id')\n",
        "invoice_data_grouped_by_id.get_group(\"train_Client_0\")\n",
        "for idx, col in enumerate(invoice_data.columns):\n",
        "    print(idx, col)"
      ]
    },
    {
      "cell_type": "code",
      "execution_count": 9,
      "metadata": {
        "colab": {
          "base_uri": "https://localhost:8080/",
          "height": 98
        },
        "id": "QgAUA07gZxU2",
        "outputId": "2f5554fc-b12e-496a-93ba-9805eafa254d"
      },
      "outputs": [
        {
          "data": {
            "text/html": [
              "<div>\n",
              "<style scoped>\n",
              "    .dataframe tbody tr th:only-of-type {\n",
              "        vertical-align: middle;\n",
              "    }\n",
              "\n",
              "    .dataframe tbody tr th {\n",
              "        vertical-align: top;\n",
              "    }\n",
              "\n",
              "    .dataframe thead th {\n",
              "        text-align: right;\n",
              "    }\n",
              "</style>\n",
              "<table border=\"1\" class=\"dataframe\">\n",
              "  <thead>\n",
              "    <tr style=\"text-align: right;\">\n",
              "      <th></th>\n",
              "      <th>id</th>\n",
              "      <th>elec_mode_tarif_type</th>\n",
              "      <th>elec_mode_counter_statue</th>\n",
              "      <th>elec_mode_months_number</th>\n",
              "      <th>elec_mode_counter_coefficient</th>\n",
              "      <th>elec_number_of_invoices</th>\n",
              "      <th>elec_avg_reading_remarque</th>\n",
              "      <th>elec_sd_reading_remarque</th>\n",
              "      <th>elec_avg_con_1</th>\n",
              "      <th>elec_sd_con_1</th>\n",
              "      <th>...</th>\n",
              "      <th>gaz_avg_reading_remarque</th>\n",
              "      <th>gaz_sd_reading_remarque</th>\n",
              "      <th>gaz_avg_con_1</th>\n",
              "      <th>gaz_sd_con_1</th>\n",
              "      <th>gaz_avg_con_2</th>\n",
              "      <th>gaz_sd_con_2</th>\n",
              "      <th>gaz_avg_con_3</th>\n",
              "      <th>gaz_sd_con_3</th>\n",
              "      <th>gaz_avg_con_4</th>\n",
              "      <th>gaz_sd_con_4</th>\n",
              "    </tr>\n",
              "  </thead>\n",
              "  <tbody>\n",
              "  </tbody>\n",
              "</table>\n",
              "<p>0 rows × 31 columns</p>\n",
              "</div>"
            ],
            "text/plain": [
              "Empty DataFrame\n",
              "Columns: [id, elec_mode_tarif_type, elec_mode_counter_statue, elec_mode_months_number, elec_mode_counter_coefficient, elec_number_of_invoices, elec_avg_reading_remarque, elec_sd_reading_remarque, elec_avg_con_1, elec_sd_con_1, elec_avg_con_2, elec_sd_con_2, elec_avg_con_3, elec_sd_con_3, elec_avg_con_4, elec_sd_con_4, gaz_mode_tarif_type, gaz_mode_counter_statue, gaz_mode_months_number, gaz_mode_counter_coefficient, gaz_number_of_invoices, gaz_avg_reading_remarque, gaz_sd_reading_remarque, gaz_avg_con_1, gaz_sd_con_1, gaz_avg_con_2, gaz_sd_con_2, gaz_avg_con_3, gaz_sd_con_3, gaz_avg_con_4, gaz_sd_con_4]\n",
              "Index: []\n",
              "\n",
              "[0 rows x 31 columns]"
            ]
          },
          "execution_count": 9,
          "metadata": {},
          "output_type": "execute_result"
        }
      ],
      "source": [
        "# Create New DataFrame containing summary statistics of every client.\n",
        "invoice_summary = {'id': [], # Client's id\n",
        "                   ### ELEC\n",
        "                   # Tarif Type\n",
        "                   'elec_mode_tarif_type': [], # Mode of tarif_type\n",
        "                   # Counter Statue\n",
        "                   'elec_mode_counter_statue': [], # Mode of counter statue\n",
        "                   # Months Number\n",
        "                   'elec_mode_months_number': [], # Mode of months number\n",
        "                   # Counter Coefficient\n",
        "                   'elec_mode_counter_coefficient': [], # Mode of counter coefficient\n",
        "                   # Number of Invoices\n",
        "                   'elec_number_of_invoices': [], # Number of invoices\n",
        "                   # Reading Remarque\n",
        "                   'elec_avg_reading_remarque': [], # Average\n",
        "                   'elec_sd_reading_remarque': [], # Standard Deviation\n",
        "                   # Consommation Level 1\n",
        "                   'elec_avg_con_1': [], # Average\n",
        "                   'elec_sd_con_1': [], # Standard Deviation\n",
        "                    # Consommation Level 2\n",
        "                   'elec_avg_con_2': [], # Average\n",
        "                   'elec_sd_con_2': [], # Standard Deviation\n",
        "                    # Consommation Level 3\n",
        "                   'elec_avg_con_3': [], # Average\n",
        "                   'elec_sd_con_3': [], # Standard Deviation\n",
        "                    # Consommation Level 4\n",
        "                   'elec_avg_con_4': [], # Average\n",
        "                   'elec_sd_con_4': [], # Standard Deviation\n",
        "\n",
        "                   ### GAZ\n",
        "                   # Tarif Type\n",
        "                   'gaz_mode_tarif_type': [], # Mode of tarif_type\n",
        "                   # Counter Statue\n",
        "                   'gaz_mode_counter_statue': [], # Mode of counter statue\n",
        "                   # Months Number\n",
        "                   'gaz_mode_months_number': [], # Mode of months number\n",
        "                   # Counter Coefficient\n",
        "                   'gaz_mode_counter_coefficient': [], # Mode of counter coefficient\n",
        "                   # Number of Invoices\n",
        "                   'gaz_number_of_invoices': [], # Number of invoices\n",
        "                   # Reading Remarque\n",
        "                   'gaz_avg_reading_remarque': [], # Average\n",
        "                   'gaz_sd_reading_remarque': [], # Standard Deviation\n",
        "                   # Consommation Level 1\n",
        "                   'gaz_avg_con_1': [], # Average\n",
        "                   'gaz_sd_con_1': [], # Standard Deviation\n",
        "                    # Consommation Level 2\n",
        "                   'gaz_avg_con_2': [], # Average\n",
        "                   'gaz_sd_con_2': [], # Standard Deviation\n",
        "                    # Consommation Level 3\n",
        "                   'gaz_avg_con_3': [], # Average\n",
        "                   'gaz_sd_con_3': [], # Standard Deviation\n",
        "                    # Consommation Level 4\n",
        "                   'gaz_avg_con_4': [], # Average\n",
        "                   'gaz_sd_con_4': [], # Standard Deviation\n",
        "                   }\n",
        "\n",
        "invoice_summary_dataFrame = pd.DataFrame(invoice_summary)\n",
        "\n",
        "invoice_summary_dataFrame = invoice_summary_dataFrame.astype(float)\n",
        "\n",
        "invoice_summary_dataFrame\n",
        "\n"
      ]
    },
    {
      "cell_type": "code",
      "execution_count": 10,
      "metadata": {
        "id": "EUuSJrHlZxU3"
      },
      "outputs": [],
      "source": [
        "# Calculate Summary Statistics\n",
        "def summary_statistics(dataFrame):\n",
        "    if len(dataFrame) == 0:\n",
        "        return [-1,-1]\n",
        "    if len(dataFrame) == 1: # Cannot calculate std if we only have one data point.\n",
        "        std = -1\n",
        "    else:\n",
        "        std = dataFrame.std()\n",
        "    return [dataFrame.mean(), std]\n",
        "\n",
        "# Find Mode\n",
        "def find_mode(dataFrame):\n",
        "    if len(dataFrame) == 0:\n",
        "        return -1\n",
        "    else:\n",
        "        return dataFrame.mode()[0]\n",
        "\n",
        "# Dropped counter_number, counter_code\n",
        "def process_client_invoice_data(client_id):\n",
        "    data = []\n",
        "    data.append(client_id)\n",
        "    client_invoice = invoice_data_grouped_by_id.get_group(client_id)\n",
        "    client_invoice_type = client_invoice.groupby('counter_type')\n",
        "\n",
        "    if 'ELEC' in client_invoice_type.groups:\n",
        "        elec_client_invoice = client_invoice_type.get_group('ELEC')\n",
        "    else:\n",
        "        elec_client_invoice = []\n",
        "\n",
        "    if 'GAZ' in client_invoice_type.groups:\n",
        "        gaz_client_invoice = client_invoice_type.get_group('GAZ')\n",
        "    else:\n",
        "        gaz_client_invoice = []\n",
        "\n",
        "    for invoice in [elec_client_invoice, gaz_client_invoice]:\n",
        "        # Categorical Data: tarif_type, counter_statue, counter_code\n",
        "        for cat_data in [2, 4, 10, 12]:\n",
        "            if len(invoice) == 0:\n",
        "                to_check = []\n",
        "            else:\n",
        "                to_check = invoice.iloc[: , cat_data]\n",
        "            data.append(find_mode(to_check))\n",
        "        # Number of Invoices\n",
        "        data.append(len(invoice))\n",
        "        # Numerical Data\n",
        "        for num_data in [6, 13, 14, 15, 7]:\n",
        "            if len(invoice) == 0:\n",
        "                to_check = []\n",
        "            else:\n",
        "                to_check = invoice.iloc[: , num_data]\n",
        "            data.extend(summary_statistics(to_check))\n",
        "\n",
        "    return data\n",
        "\n",
        "pos = 0\n",
        "for id in unique_ids_in_invoice_data:\n",
        "    invoice_summary_dataFrame.loc[pos] = process_client_invoice_data(id)\n",
        "    pos += 1"
      ]
    },
    {
      "cell_type": "code",
      "execution_count": 11,
      "metadata": {
        "colab": {
          "base_uri": "https://localhost:8080/"
        },
        "id": "BuKM4m_lZxU3",
        "outputId": "b7d9101f-ec3c-4bdc-896d-8952cf4634a8"
      },
      "outputs": [
        {
          "name": "stdout",
          "output_type": "stream",
          "text": [
            "<class 'pandas.core.frame.DataFrame'>\n",
            "Int64Index: 31603 entries, 0 to 31602\n",
            "Data columns (total 31 columns):\n",
            " #   Column                         Non-Null Count  Dtype  \n",
            "---  ------                         --------------  -----  \n",
            " 0   id                             31603 non-null  object \n",
            " 1   elec_mode_tarif_type           31603 non-null  int64  \n",
            " 2   elec_mode_counter_statue       31603 non-null  int64  \n",
            " 3   elec_mode_months_number        31603 non-null  int64  \n",
            " 4   elec_mode_counter_coefficient  31603 non-null  int64  \n",
            " 5   elec_number_of_invoices        31603 non-null  int64  \n",
            " 6   elec_avg_reading_remarque      31603 non-null  float64\n",
            " 7   elec_sd_reading_remarque       31603 non-null  float64\n",
            " 8   elec_avg_con_1                 31603 non-null  float64\n",
            " 9   elec_sd_con_1                  31603 non-null  float64\n",
            " 10  elec_avg_con_2                 31603 non-null  float64\n",
            " 11  elec_sd_con_2                  31603 non-null  float64\n",
            " 12  elec_avg_con_3                 31603 non-null  float64\n",
            " 13  elec_sd_con_3                  31603 non-null  float64\n",
            " 14  elec_avg_con_4                 31603 non-null  float64\n",
            " 15  elec_sd_con_4                  31603 non-null  float64\n",
            " 16  gaz_mode_tarif_type            31603 non-null  int64  \n",
            " 17  gaz_mode_counter_statue        31603 non-null  int64  \n",
            " 18  gaz_mode_months_number         31603 non-null  int64  \n",
            " 19  gaz_mode_counter_coefficient   31603 non-null  int64  \n",
            " 20  gaz_number_of_invoices         31603 non-null  int64  \n",
            " 21  gaz_avg_reading_remarque       31603 non-null  float64\n",
            " 22  gaz_sd_reading_remarque        31603 non-null  float64\n",
            " 23  gaz_avg_con_1                  31603 non-null  float64\n",
            " 24  gaz_sd_con_1                   31603 non-null  float64\n",
            " 25  gaz_avg_con_2                  31603 non-null  float64\n",
            " 26  gaz_sd_con_2                   31603 non-null  float64\n",
            " 27  gaz_avg_con_3                  31603 non-null  float64\n",
            " 28  gaz_sd_con_3                   31603 non-null  float64\n",
            " 29  gaz_avg_con_4                  31603 non-null  float64\n",
            " 30  gaz_sd_con_4                   31603 non-null  float64\n",
            "dtypes: float64(20), int64(10), object(1)\n",
            "memory usage: 7.7+ MB\n"
          ]
        }
      ],
      "source": [
        "invoice_summary_dataFrame.info()"
      ]
    },
    {
      "cell_type": "code",
      "execution_count": 12,
      "metadata": {
        "colab": {
          "base_uri": "https://localhost:8080/",
          "height": 443
        },
        "id": "gozchaR4ZxU3",
        "outputId": "6f852df7-2b8a-468b-a37e-dbc7357cd3c0"
      },
      "outputs": [
        {
          "data": {
            "text/html": [
              "<div>\n",
              "<style scoped>\n",
              "    .dataframe tbody tr th:only-of-type {\n",
              "        vertical-align: middle;\n",
              "    }\n",
              "\n",
              "    .dataframe tbody tr th {\n",
              "        vertical-align: top;\n",
              "    }\n",
              "\n",
              "    .dataframe thead th {\n",
              "        text-align: right;\n",
              "    }\n",
              "</style>\n",
              "<table border=\"1\" class=\"dataframe\">\n",
              "  <thead>\n",
              "    <tr style=\"text-align: right;\">\n",
              "      <th></th>\n",
              "      <th>id</th>\n",
              "      <th>elec_mode_tarif_type</th>\n",
              "      <th>elec_mode_counter_statue</th>\n",
              "      <th>elec_mode_months_number</th>\n",
              "      <th>elec_mode_counter_coefficient</th>\n",
              "      <th>elec_number_of_invoices</th>\n",
              "      <th>elec_avg_reading_remarque</th>\n",
              "      <th>elec_sd_reading_remarque</th>\n",
              "      <th>elec_avg_con_1</th>\n",
              "      <th>elec_sd_con_1</th>\n",
              "      <th>...</th>\n",
              "      <th>gaz_avg_reading_remarque</th>\n",
              "      <th>gaz_sd_reading_remarque</th>\n",
              "      <th>gaz_avg_con_1</th>\n",
              "      <th>gaz_sd_con_1</th>\n",
              "      <th>gaz_avg_con_2</th>\n",
              "      <th>gaz_sd_con_2</th>\n",
              "      <th>gaz_avg_con_3</th>\n",
              "      <th>gaz_sd_con_3</th>\n",
              "      <th>gaz_avg_con_4</th>\n",
              "      <th>gaz_sd_con_4</th>\n",
              "    </tr>\n",
              "  </thead>\n",
              "  <tbody>\n",
              "    <tr>\n",
              "      <th>count</th>\n",
              "      <td>31603</td>\n",
              "      <td>31603.000000</td>\n",
              "      <td>31603.000000</td>\n",
              "      <td>31603.000000</td>\n",
              "      <td>31603.000000</td>\n",
              "      <td>31603.000000</td>\n",
              "      <td>31603.000000</td>\n",
              "      <td>31603.000000</td>\n",
              "      <td>31603.000000</td>\n",
              "      <td>31603.000000</td>\n",
              "      <td>...</td>\n",
              "      <td>31603.000000</td>\n",
              "      <td>31603.000000</td>\n",
              "      <td>31603.000000</td>\n",
              "      <td>31603.000000</td>\n",
              "      <td>31603.000000</td>\n",
              "      <td>31603.000000</td>\n",
              "      <td>31603.000000</td>\n",
              "      <td>31603.000000</td>\n",
              "      <td>31603.000000</td>\n",
              "      <td>31603.000000</td>\n",
              "    </tr>\n",
              "    <tr>\n",
              "      <th>unique</th>\n",
              "      <td>31603</td>\n",
              "      <td>NaN</td>\n",
              "      <td>NaN</td>\n",
              "      <td>NaN</td>\n",
              "      <td>NaN</td>\n",
              "      <td>NaN</td>\n",
              "      <td>NaN</td>\n",
              "      <td>NaN</td>\n",
              "      <td>NaN</td>\n",
              "      <td>NaN</td>\n",
              "      <td>...</td>\n",
              "      <td>NaN</td>\n",
              "      <td>NaN</td>\n",
              "      <td>NaN</td>\n",
              "      <td>NaN</td>\n",
              "      <td>NaN</td>\n",
              "      <td>NaN</td>\n",
              "      <td>NaN</td>\n",
              "      <td>NaN</td>\n",
              "      <td>NaN</td>\n",
              "      <td>NaN</td>\n",
              "    </tr>\n",
              "    <tr>\n",
              "      <th>top</th>\n",
              "      <td>train_Client_0</td>\n",
              "      <td>NaN</td>\n",
              "      <td>NaN</td>\n",
              "      <td>NaN</td>\n",
              "      <td>NaN</td>\n",
              "      <td>NaN</td>\n",
              "      <td>NaN</td>\n",
              "      <td>NaN</td>\n",
              "      <td>NaN</td>\n",
              "      <td>NaN</td>\n",
              "      <td>...</td>\n",
              "      <td>NaN</td>\n",
              "      <td>NaN</td>\n",
              "      <td>NaN</td>\n",
              "      <td>NaN</td>\n",
              "      <td>NaN</td>\n",
              "      <td>NaN</td>\n",
              "      <td>NaN</td>\n",
              "      <td>NaN</td>\n",
              "      <td>NaN</td>\n",
              "      <td>NaN</td>\n",
              "    </tr>\n",
              "    <tr>\n",
              "      <th>freq</th>\n",
              "      <td>1</td>\n",
              "      <td>NaN</td>\n",
              "      <td>NaN</td>\n",
              "      <td>NaN</td>\n",
              "      <td>NaN</td>\n",
              "      <td>NaN</td>\n",
              "      <td>NaN</td>\n",
              "      <td>NaN</td>\n",
              "      <td>NaN</td>\n",
              "      <td>NaN</td>\n",
              "      <td>...</td>\n",
              "      <td>NaN</td>\n",
              "      <td>NaN</td>\n",
              "      <td>NaN</td>\n",
              "      <td>NaN</td>\n",
              "      <td>NaN</td>\n",
              "      <td>NaN</td>\n",
              "      <td>NaN</td>\n",
              "      <td>NaN</td>\n",
              "      <td>NaN</td>\n",
              "      <td>NaN</td>\n",
              "    </tr>\n",
              "    <tr>\n",
              "      <th>mean</th>\n",
              "      <td>NaN</td>\n",
              "      <td>10.869474</td>\n",
              "      <td>0.012341</td>\n",
              "      <td>11.584691</td>\n",
              "      <td>0.992532</td>\n",
              "      <td>22.814733</td>\n",
              "      <td>7.397513</td>\n",
              "      <td>0.923902</td>\n",
              "      <td>504.957984</td>\n",
              "      <td>303.745243</td>\n",
              "      <td>...</td>\n",
              "      <td>2.793496</td>\n",
              "      <td>-0.132568</td>\n",
              "      <td>84.113915</td>\n",
              "      <td>77.978798</td>\n",
              "      <td>0.037007</td>\n",
              "      <td>-0.129864</td>\n",
              "      <td>-0.540803</td>\n",
              "      <td>-0.552606</td>\n",
              "      <td>-0.540803</td>\n",
              "      <td>-0.552606</td>\n",
              "    </tr>\n",
              "    <tr>\n",
              "      <th>std</th>\n",
              "      <td>NaN</td>\n",
              "      <td>1.002885</td>\n",
              "      <td>0.233647</td>\n",
              "      <td>910.795813</td>\n",
              "      <td>0.327245</td>\n",
              "      <td>16.552420</td>\n",
              "      <td>1.058491</td>\n",
              "      <td>0.650104</td>\n",
              "      <td>750.326956</td>\n",
              "      <td>561.450542</td>\n",
              "      <td>...</td>\n",
              "      <td>4.161384</td>\n",
              "      <td>1.016660</td>\n",
              "      <td>231.247505</td>\n",
              "      <td>256.199634</td>\n",
              "      <td>53.090950</td>\n",
              "      <td>35.874832</td>\n",
              "      <td>0.498340</td>\n",
              "      <td>0.497233</td>\n",
              "      <td>0.498340</td>\n",
              "      <td>0.497233</td>\n",
              "    </tr>\n",
              "    <tr>\n",
              "      <th>min</th>\n",
              "      <td>NaN</td>\n",
              "      <td>-1.000000</td>\n",
              "      <td>-1.000000</td>\n",
              "      <td>-1.000000</td>\n",
              "      <td>-1.000000</td>\n",
              "      <td>0.000000</td>\n",
              "      <td>-1.000000</td>\n",
              "      <td>-1.000000</td>\n",
              "      <td>-1.000000</td>\n",
              "      <td>-1.000000</td>\n",
              "      <td>...</td>\n",
              "      <td>-1.000000</td>\n",
              "      <td>-1.000000</td>\n",
              "      <td>-1.000000</td>\n",
              "      <td>-1.000000</td>\n",
              "      <td>-1.000000</td>\n",
              "      <td>-1.000000</td>\n",
              "      <td>-1.000000</td>\n",
              "      <td>-1.000000</td>\n",
              "      <td>-1.000000</td>\n",
              "      <td>-1.000000</td>\n",
              "    </tr>\n",
              "    <tr>\n",
              "      <th>25%</th>\n",
              "      <td>NaN</td>\n",
              "      <td>11.000000</td>\n",
              "      <td>0.000000</td>\n",
              "      <td>4.000000</td>\n",
              "      <td>1.000000</td>\n",
              "      <td>9.000000</td>\n",
              "      <td>6.843750</td>\n",
              "      <td>0.612372</td>\n",
              "      <td>263.091724</td>\n",
              "      <td>146.192959</td>\n",
              "      <td>...</td>\n",
              "      <td>-1.000000</td>\n",
              "      <td>-1.000000</td>\n",
              "      <td>-1.000000</td>\n",
              "      <td>-1.000000</td>\n",
              "      <td>-1.000000</td>\n",
              "      <td>-1.000000</td>\n",
              "      <td>-1.000000</td>\n",
              "      <td>-1.000000</td>\n",
              "      <td>-1.000000</td>\n",
              "      <td>-1.000000</td>\n",
              "    </tr>\n",
              "    <tr>\n",
              "      <th>50%</th>\n",
              "      <td>NaN</td>\n",
              "      <td>11.000000</td>\n",
              "      <td>0.000000</td>\n",
              "      <td>4.000000</td>\n",
              "      <td>1.000000</td>\n",
              "      <td>23.000000</td>\n",
              "      <td>7.333333</td>\n",
              "      <td>1.200490</td>\n",
              "      <td>442.357143</td>\n",
              "      <td>253.504675</td>\n",
              "      <td>...</td>\n",
              "      <td>-1.000000</td>\n",
              "      <td>-1.000000</td>\n",
              "      <td>-1.000000</td>\n",
              "      <td>-1.000000</td>\n",
              "      <td>-1.000000</td>\n",
              "      <td>-1.000000</td>\n",
              "      <td>-1.000000</td>\n",
              "      <td>-1.000000</td>\n",
              "      <td>-1.000000</td>\n",
              "      <td>-1.000000</td>\n",
              "    </tr>\n",
              "    <tr>\n",
              "      <th>75%</th>\n",
              "      <td>NaN</td>\n",
              "      <td>11.000000</td>\n",
              "      <td>0.000000</td>\n",
              "      <td>4.000000</td>\n",
              "      <td>1.000000</td>\n",
              "      <td>35.000000</td>\n",
              "      <td>8.000000</td>\n",
              "      <td>1.366655</td>\n",
              "      <td>659.000000</td>\n",
              "      <td>378.918023</td>\n",
              "      <td>...</td>\n",
              "      <td>7.033333</td>\n",
              "      <td>1.035032</td>\n",
              "      <td>96.215839</td>\n",
              "      <td>61.645037</td>\n",
              "      <td>0.000000</td>\n",
              "      <td>0.000000</td>\n",
              "      <td>0.000000</td>\n",
              "      <td>0.000000</td>\n",
              "      <td>0.000000</td>\n",
              "      <td>0.000000</td>\n",
              "    </tr>\n",
              "    <tr>\n",
              "      <th>max</th>\n",
              "      <td>NaN</td>\n",
              "      <td>29.000000</td>\n",
              "      <td>5.000000</td>\n",
              "      <td>152508.000000</td>\n",
              "      <td>50.000000</td>\n",
              "      <td>439.000000</td>\n",
              "      <td>9.000000</td>\n",
              "      <td>2.121320</td>\n",
              "      <td>52790.000000</td>\n",
              "      <td>49319.672122</td>\n",
              "      <td>...</td>\n",
              "      <td>9.000000</td>\n",
              "      <td>2.121320</td>\n",
              "      <td>6523.100000</td>\n",
              "      <td>19164.201327</td>\n",
              "      <td>7350.315789</td>\n",
              "      <td>4869.665971</td>\n",
              "      <td>0.000000</td>\n",
              "      <td>0.000000</td>\n",
              "      <td>0.000000</td>\n",
              "      <td>0.000000</td>\n",
              "    </tr>\n",
              "  </tbody>\n",
              "</table>\n",
              "<p>11 rows × 31 columns</p>\n",
              "</div>"
            ],
            "text/plain": [
              "                    id  elec_mode_tarif_type  elec_mode_counter_statue  \\\n",
              "count            31603          31603.000000              31603.000000   \n",
              "unique           31603                   NaN                       NaN   \n",
              "top     train_Client_0                   NaN                       NaN   \n",
              "freq                 1                   NaN                       NaN   \n",
              "mean               NaN             10.869474                  0.012341   \n",
              "std                NaN              1.002885                  0.233647   \n",
              "min                NaN             -1.000000                 -1.000000   \n",
              "25%                NaN             11.000000                  0.000000   \n",
              "50%                NaN             11.000000                  0.000000   \n",
              "75%                NaN             11.000000                  0.000000   \n",
              "max                NaN             29.000000                  5.000000   \n",
              "\n",
              "        elec_mode_months_number  elec_mode_counter_coefficient  \\\n",
              "count              31603.000000                   31603.000000   \n",
              "unique                      NaN                            NaN   \n",
              "top                         NaN                            NaN   \n",
              "freq                        NaN                            NaN   \n",
              "mean                  11.584691                       0.992532   \n",
              "std                  910.795813                       0.327245   \n",
              "min                   -1.000000                      -1.000000   \n",
              "25%                    4.000000                       1.000000   \n",
              "50%                    4.000000                       1.000000   \n",
              "75%                    4.000000                       1.000000   \n",
              "max               152508.000000                      50.000000   \n",
              "\n",
              "        elec_number_of_invoices  elec_avg_reading_remarque  \\\n",
              "count              31603.000000               31603.000000   \n",
              "unique                      NaN                        NaN   \n",
              "top                         NaN                        NaN   \n",
              "freq                        NaN                        NaN   \n",
              "mean                  22.814733                   7.397513   \n",
              "std                   16.552420                   1.058491   \n",
              "min                    0.000000                  -1.000000   \n",
              "25%                    9.000000                   6.843750   \n",
              "50%                   23.000000                   7.333333   \n",
              "75%                   35.000000                   8.000000   \n",
              "max                  439.000000                   9.000000   \n",
              "\n",
              "        elec_sd_reading_remarque  elec_avg_con_1  elec_sd_con_1  ...  \\\n",
              "count               31603.000000    31603.000000   31603.000000  ...   \n",
              "unique                       NaN             NaN            NaN  ...   \n",
              "top                          NaN             NaN            NaN  ...   \n",
              "freq                         NaN             NaN            NaN  ...   \n",
              "mean                    0.923902      504.957984     303.745243  ...   \n",
              "std                     0.650104      750.326956     561.450542  ...   \n",
              "min                    -1.000000       -1.000000      -1.000000  ...   \n",
              "25%                     0.612372      263.091724     146.192959  ...   \n",
              "50%                     1.200490      442.357143     253.504675  ...   \n",
              "75%                     1.366655      659.000000     378.918023  ...   \n",
              "max                     2.121320    52790.000000   49319.672122  ...   \n",
              "\n",
              "        gaz_avg_reading_remarque  gaz_sd_reading_remarque  gaz_avg_con_1  \\\n",
              "count               31603.000000             31603.000000   31603.000000   \n",
              "unique                       NaN                      NaN            NaN   \n",
              "top                          NaN                      NaN            NaN   \n",
              "freq                         NaN                      NaN            NaN   \n",
              "mean                    2.793496                -0.132568      84.113915   \n",
              "std                     4.161384                 1.016660     231.247505   \n",
              "min                    -1.000000                -1.000000      -1.000000   \n",
              "25%                    -1.000000                -1.000000      -1.000000   \n",
              "50%                    -1.000000                -1.000000      -1.000000   \n",
              "75%                     7.033333                 1.035032      96.215839   \n",
              "max                     9.000000                 2.121320    6523.100000   \n",
              "\n",
              "        gaz_sd_con_1  gaz_avg_con_2  gaz_sd_con_2  gaz_avg_con_3  \\\n",
              "count   31603.000000   31603.000000  31603.000000   31603.000000   \n",
              "unique           NaN            NaN           NaN            NaN   \n",
              "top              NaN            NaN           NaN            NaN   \n",
              "freq             NaN            NaN           NaN            NaN   \n",
              "mean       77.978798       0.037007     -0.129864      -0.540803   \n",
              "std       256.199634      53.090950     35.874832       0.498340   \n",
              "min        -1.000000      -1.000000     -1.000000      -1.000000   \n",
              "25%        -1.000000      -1.000000     -1.000000      -1.000000   \n",
              "50%        -1.000000      -1.000000     -1.000000      -1.000000   \n",
              "75%        61.645037       0.000000      0.000000       0.000000   \n",
              "max     19164.201327    7350.315789   4869.665971       0.000000   \n",
              "\n",
              "        gaz_sd_con_3  gaz_avg_con_4  gaz_sd_con_4  \n",
              "count   31603.000000   31603.000000  31603.000000  \n",
              "unique           NaN            NaN           NaN  \n",
              "top              NaN            NaN           NaN  \n",
              "freq             NaN            NaN           NaN  \n",
              "mean       -0.552606      -0.540803     -0.552606  \n",
              "std         0.497233       0.498340      0.497233  \n",
              "min        -1.000000      -1.000000     -1.000000  \n",
              "25%        -1.000000      -1.000000     -1.000000  \n",
              "50%        -1.000000      -1.000000     -1.000000  \n",
              "75%         0.000000       0.000000      0.000000  \n",
              "max         0.000000       0.000000      0.000000  \n",
              "\n",
              "[11 rows x 31 columns]"
            ]
          },
          "execution_count": 12,
          "metadata": {},
          "output_type": "execute_result"
        }
      ],
      "source": [
        "invoice_summary_dataFrame.describe(include=\"all\")"
      ]
    },
    {
      "cell_type": "code",
      "execution_count": 13,
      "metadata": {
        "colab": {
          "base_uri": "https://localhost:8080/",
          "height": 245
        },
        "id": "mRZchrRHZxU4",
        "outputId": "ac0df160-4cb2-4843-aa66-b4a9037439e7"
      },
      "outputs": [],
      "source": [
        "# Join client_with_invoice with invoice_summary_dataFrame on 'id'\n",
        "df = pd.merge(clients_with_invoice, invoice_summary_dataFrame, on='id', how='inner')\n",
        "# Drop id, as it has nothing to do with fraud or not.\n",
        "df = df.drop('id', axis=1)\n",
        "# We consider the year the client joined, instead of the date\n",
        "df['date'] = pd.to_datetime(df['date'], dayfirst=True).apply(lambda datetime: datetime.year)\n",
        "df.rename(columns={'date':'year'}, inplace=True)"
      ]
    },
    {
      "cell_type": "markdown",
      "metadata": {
        "id": "9n1JMtI9iV-l"
      },
      "source": [
        "We might be curious whether the summary statistics calculated are effective in differentiating fraud clients from the non-fraud ones.\n",
        "The visualization below suggests that they are.\n",
        "\n",
        "For example, we see that the standard deviation of Consumption Level 1 differentiates the non-fraud clients (blue) from the fraud-clients (red).\n",
        "- Notice that there is a concentration of non-fraud clients around 0.\n",
        "- Notice that there is a concentration of fraud clients around 300.\n",
        "\n",
        "Since there are way too many non-fraud clients compared to fraud clients, we create a sample of 3000 clients, half non-fraud, half fraud, so that we can use the visualization techniques effectively.\n",
        "\n",
        "(Otherwise we would not be able to observe the pattern of fraud clients since they will be overpowered by non-fraud clients)."
      ]
    },
    {
      "cell_type": "code",
      "execution_count": 14,
      "metadata": {
        "colab": {
          "base_uri": "https://localhost:8080/",
          "height": 616
        },
        "id": "0RyG-t1mZxU4",
        "outputId": "4dc15877-5b79-4421-c004-4c2d40702658"
      },
      "outputs": [
        {
          "name": "stdout",
          "output_type": "stream",
          "text": [
            "Number of clients with `elec_sd_con_1` > 1000: 541.\n",
            "Number of non-fraud clients with `elec_sd_con_1` > 1000: 499.\n",
            "Number of fraud clients with `elec_sd_con_1` > 1000: 42.\n",
            "Number of fraud clients: 1757\n",
            "Note that out of 1757 fraud clients, there are only 42 with standard deviation 1000 and above, they are negligible.\n"
          ]
        },
        {
          "data": {
            "image/png": "[encoded data removed]",
            "text/plain": [
              "<Figure size 558.875x500 with 1 Axes>"
            ]
          },
          "metadata": {},
          "output_type": "display_data"
        }
      ],
      "source": [
        "# We group the clients in df by whether they are fraud or not\n",
        "df_grouped_by_target = df.groupby('target')\n",
        "\n",
        "# Now we randomly sample 1500 non-fraud clients with `elec_sd_con_1` <= 1000\n",
        "fraud = df_grouped_by_target.get_group(0)\n",
        "sample_fraud_below_200 = fraud[fraud['elec_sd_con_1'] <= 1000].sample(n=1500)\n",
        "\n",
        "# And also sample 1500 fraud-clients with `elec_sd_con_1` <= 1000\n",
        "not_fraud = df_grouped_by_target.get_group(1)\n",
        "sample_not_fraud_below_200 = not_fraud[not_fraud['elec_sd_con_1'] <= 1000].sample(n=1500)\n",
        "\n",
        "# We now have a sample consisting of 3000 clients\n",
        "sample_below_200 = pd.concat([sample_fraud_below_200, sample_not_fraud_below_200], axis=0)\n",
        "\n",
        "# We observe the distribution of their standard deviation\n",
        "sns.displot(sample_below_200, x=\"elec_sd_con_1\", bins = 50, hue=\"target\",  multiple='dodge').set(title=\"elec_sd_con_1 <= 1000\")\n",
        "\n",
        "# Number of clients with `elec_sd_con_1` > 1000\n",
        "print(f\"Number of clients with `elec_sd_con_1` > 1000: {len(df[df['elec_sd_con_1'] > 1000])}.\")\n",
        "print(f\"Number of non-fraud clients with `elec_sd_con_1` > 1000: {len(df[(df['elec_sd_con_1'] >= 1000) & (df['target'] == 0)])}.\")\n",
        "print(f\"Number of fraud clients with `elec_sd_con_1` > 1000: {len(df[(df['elec_sd_con_1'] >= 1000) & (df['target'] == 1)])}.\")\n",
        "print(f\"Number of fraud clients: {len(df[df['target'] == 1])}\")\n",
        "print(\"Note that out of 1757 fraud clients, there are only 42 with standard deviation 1000 and above, they are negligible.\")"
      ]
    },
    {
      "cell_type": "markdown",
      "metadata": {
        "id": "7cKivtTxtDjU"
      },
      "source": [
        "# Machine Learning Algorithms for Classification"
      ]
    },
    {
      "cell_type": "markdown",
      "metadata": {
        "id": "MKm9aR88TwpU"
      },
      "source": [
        "## Logistic Regression on Invoices, without feature selection"
      ]
    },
    {
      "cell_type": "markdown",
      "metadata": {
        "id": "r1rpXcdmUCSp"
      },
      "source": [
        "To get a baseline of how our logistic regression model performs, lets try to simply join the client dataset with their invoices (considering only clients that have invoices) and run a logistic regression model on all invoices  "
      ]
    },
    {
      "cell_type": "code",
      "execution_count": 15,
      "metadata": {
        "colab": {
          "base_uri": "https://localhost:8080/"
        },
        "id": "Uj3VCxS0UBAw",
        "outputId": "6f9b8471-d684-402d-ed16-d8541f97d297"
      },
      "outputs": [
        {
          "name": "stderr",
          "output_type": "stream",
          "text": [
            "/var/folders/97/dwh90kfn0db3d8d2fwwh_6x80000gn/T/ipykernel_74097/3193368480.py:6: UserWarning: Parsing dates in DD/MM/YYYY format when dayfirst=False (the default) was specified. This may lead to inconsistently parsed dates! Specify a format to ensure consistent parsing.\n",
            "  naive_df['date_x'] = pd.to_datetime(naive_df['date_x'])\n",
            "/var/folders/97/dwh90kfn0db3d8d2fwwh_6x80000gn/T/ipykernel_74097/3193368480.py:7: UserWarning: Parsing dates in DD/MM/YYYY format when dayfirst=False (the default) was specified. This may lead to inconsistently parsed dates! Specify a format to ensure consistent parsing.\n",
            "  naive_df['date_y'] = pd.to_datetime(naive_df['date_y'])\n"
          ]
        }
      ],
      "source": [
        "# join dataframe with clients_with_invoice and invoice_data\n",
        "naive_df = pd.merge(clients_with_invoice, invoice_data, on='id', how='inner')\n",
        "# clean up dataframe, convert counter_type to float (0 for elec, 1 for gas)\n",
        "naive_df['counter_type'] = naive_df['counter_type'].apply(lambda x: 0 if x == 'ELEC' else 1)\n",
        "# format date column\n",
        "naive_df['date_x'] = pd.to_datetime(naive_df['date_x'])\n",
        "naive_df['date_y'] = pd.to_datetime(naive_df['date_y'])\n",
        "naive_df['date_x'] = naive_df['date_x'].apply(lambda x: x.timestamp())\n",
        "naive_df['date_y'] = naive_df['date_y'].apply(lambda x: x.timestamp())\n",
        "# convert client id from string to float\n",
        "naive_df['id'] = naive_df['id'].apply(lambda x: int(x.split('_')[-1]))\n"
      ]
    },
    {
      "cell_type": "markdown",
      "metadata": {
        "id": "DvKX2-sWwqu0"
      },
      "source": [
        "Let us evaluate the performance of this logistic regression model.\n",
        "\n",
        "We can do so by calculating the **confusion matrix** and other key statistics\n",
        "\n",
        "We can also plot the **ROC curve**.\n",
        "\n",
        "**Note that in this context a \"positive\" result refers to a fradulent client**"
      ]
    },
    {
      "cell_type": "code",
      "execution_count": 50,
      "metadata": {
        "id": "O52Do_zLwm12"
      },
      "outputs": [],
      "source": [
        "def measure_logreg_performance(df):\n",
        "    # Split data into training and testing data for logistic regression\n",
        "    X = df.drop('target', axis=1)\n",
        "    y = df['target']\n",
        "    X_train, X_test, y_train, y_test = train_test_split(X, y, test_size=0.2, random_state=101)\n",
        "\n",
        "    # run logistic regression and fit model from sklearn\n",
        "    logreg = LogisticRegression(random_state=42)\n",
        "    logreg.fit(X_train, y_train)\n",
        "    y_pred = logreg.predict(X_test)\n",
        "    # plot confusion matrix for logistic regression model\n",
        "    cm = confusion_matrix(y_test, y_pred)\n",
        "    print(\"Confusion Matrix:\")\n",
        "    print(f\"True Positives (TP): {cm[1,1]}\")\n",
        "    print(f\"True Negatives (TN): {cm[0,0]}\")\n",
        "    print(f\"False Positives (FP): {cm[0,1]}\")\n",
        "    print(f\"False Negatives (FN): {cm[1,0]}\")\n",
        "\n",
        "    # calculate accuracy, precision, recall, f1-score\n",
        "    print(classification_report(y_test, y_pred))\n",
        "\n",
        "    # plot ROC curve\n",
        "    # reference: https://www.datacamp.com/tutorial/understanding-logistic-regression-python?utm_source=google&utm_medium=paid_search&utm_campaignid=19589720821&utm_adgroupid=143216588577&utm_device=c&utm_keyword=&utm_matchtype=&utm_network=g&utm_adpostion=&utm_creative=676354849139&utm_targetid=dsa-1947282172981&utm_loc_interest_ms=&utm_loc_physical_ms=9062542&utm_content=dsa~page~community-tuto&utm_campaign=230119_1-sea~dsa~tofu_2-b2c_3-row-p1_4-prc_5-na_6-na_7-le_8-pdsh-go_9-na_10-na_11-na-oct23&gclid=CjwKCAjwkNOpBhBEEiwAb3MvvXmfFm-Z9yFqOBbjBwFAFkTwoiEIQYPwuljT1MA_AWrKt_lB3QUrRBoCfisQAvD_BwE\n",
        "    y_pred_proba = logreg.predict_proba(X_test)[::,1]\n",
        "    fpr, tpr, _ = roc_curve(y_test,  y_pred_proba)\n",
        "    auc = roc_auc_score(y_test, y_pred_proba)\n",
        "    plt.plot(fpr,tpr,label=\"data 1, auc=\"+str(auc))\n",
        "    plt.plot([0, 1], [0, 1], color='darkorange', lw=2, linestyle='--')\n",
        "    plt.legend(loc=4)\n",
        "    plt.show()"
      ]
    },
    {
      "cell_type": "code",
      "execution_count": 51,
      "metadata": {
        "colab": {
          "base_uri": "https://localhost:8080/",
          "height": 797
        },
        "id": "ko-3Yv8RiV-m",
        "outputId": "bd519827-c14a-4b9b-9820-22f4982556f0"
      },
      "outputs": [
        {
          "name": "stdout",
          "output_type": "stream",
          "text": [
            "Confusion Matrix:\n",
            "True Positives (TP): 0\n",
            "True Negatives (TN): 193740\n",
            "False Positives (FP): 0\n",
            "False Negatives (FN): 15975\n",
            "              precision    recall  f1-score   support\n",
            "\n",
            "           0       0.92      1.00      0.96    193740\n",
            "           1       0.00      0.00      0.00     15975\n",
            "\n",
            "    accuracy                           0.92    209715\n",
            "   macro avg       0.46      0.50      0.48    209715\n",
            "weighted avg       0.85      0.92      0.89    209715\n",
            "\n"
          ]
        },
        {
          "name": "stderr",
          "output_type": "stream",
          "text": [
            "/Users/edricyeo/anaconda3/envs/cs2109s-ay2223s1/lib/python3.9/site-packages/sklearn/metrics/_classification.py:1318: UndefinedMetricWarning: Precision and F-score are ill-defined and being set to 0.0 in labels with no predicted samples. Use `zero_division` parameter to control this behavior.\n",
            "  _warn_prf(average, modifier, msg_start, len(result))\n",
            "/Users/edricyeo/anaconda3/envs/cs2109s-ay2223s1/lib/python3.9/site-packages/sklearn/metrics/_classification.py:1318: UndefinedMetricWarning: Precision and F-score are ill-defined and being set to 0.0 in labels with no predicted samples. Use `zero_division` parameter to control this behavior.\n",
            "  _warn_prf(average, modifier, msg_start, len(result))\n",
            "/Users/edricyeo/anaconda3/envs/cs2109s-ay2223s1/lib/python3.9/site-packages/sklearn/metrics/_classification.py:1318: UndefinedMetricWarning: Precision and F-score are ill-defined and being set to 0.0 in labels with no predicted samples. Use `zero_division` parameter to control this behavior.\n",
            "  _warn_prf(average, modifier, msg_start, len(result))\n"
          ]
        },
        {
          "data": {
            "image/png": "[encoded data removed]",
            "text/plain": [
              "<Figure size 640x480 with 1 Axes>"
            ]
          },
          "metadata": {},
          "output_type": "display_data"
        }
      ],
      "source": [
        "measure_logreg_performance(naive_df)"
      ]
    },
    {
      "cell_type": "markdown",
      "metadata": {
        "id": "9BZQlde5iV-m"
      },
      "source": [
        "From the results, the accuracy of the model (0.92) seems high, however, by looking at the confusion matrix, we realise that the both the true and false positive rate is 0%. This means the model simply predicts false (non-fraud) for all invoices. Therefore, the model is not useful, although accuracy seems high.\n",
        "\n",
        "Another metric we used is the area under the ROC curve. Here we see that the area under the ROC curve is 0.535. This is close to 0.5, which indicates that the model makes seemingly random predictions. Therefore, we need to perform some feature selection, feature scaling or resampling"
      ]
    },
    {
      "cell_type": "markdown",
      "metadata": {},
      "source": [
        "*The below code takes approximately 1 hour to run.*\n",
        "\n",
        "Uncomment to run. It selects the 10 \"best\" features. However, we determined that these features were not beneficial to our study."
      ]
    },
    {
      "cell_type": "code",
      "execution_count": 18,
      "metadata": {
        "colab": {
          "base_uri": "https://localhost:8080/",
          "height": 122
        },
        "id": "PtldqGG1iV-m",
        "outputId": "4b6ff4cc-76dd-48fd-9bf2-3e0ea741d8ae"
      },
      "outputs": [
        {
          "data": {
            "text/plain": [
              "\"\\n# look at columns of df\\nnaive_df.columns\\n# drop dates since they are hard to pass into RFE, and don't seem significant\\nnew_df = naive_df.drop(['date_x', 'date_y'], axis=1)\\nX = new_df.drop('target', axis=1)\\ny = new_df['target']\\n# format categorical variables, using one-hot encoding\\ncategorical_feats = ['region', 'dis', 'catg', 'tarif_type']\\ncategorical_features_encoded = pd.get_dummies(new_df, columns=categorical_feats)\\n# Concatenate one-hot encoded categorical features with numerical features\\nnumerical_features = X.drop(categorical_feats, axis=1)\\nX = pd.concat([categorical_features_encoded, numerical_features], axis=1)\\n\\n# Create a classifier for RFE\\nclassifier = RandomForestClassifier()\\n# Create an instance of RFE\\nrfe = RFE(classifier, n_features_to_select=10)\\n# Fit the RFE selector to your data\\nX_new = rfe.fit_transform(X, y)\\n# Get the indices of the selected features\\nselected_features_indices = rfe.support_\\n# Use the selected features for further analysis\\nselected_features = X.columns[selected_features_indices]\\n\""
            ]
          },
          "execution_count": 18,
          "metadata": {},
          "output_type": "execute_result"
        }
      ],
      "source": [
        "'''\n",
        "# look at columns of df\n",
        "naive_df.columns\n",
        "# drop dates since they are hard to pass into RFE, and don't seem significant\n",
        "new_df = naive_df.drop(['date_x', 'date_y'], axis=1)\n",
        "X = new_df.drop('target', axis=1)\n",
        "y = new_df['target']\n",
        "# format categorical variables, using one-hot encoding\n",
        "categorical_feats = ['region', 'dis', 'catg', 'tarif_type']\n",
        "categorical_features_encoded = pd.get_dummies(new_df, columns=categorical_feats)\n",
        "# Concatenate one-hot encoded categorical features with numerical features\n",
        "numerical_features = X.drop(categorical_feats, axis=1)\n",
        "X = pd.concat([categorical_features_encoded, numerical_features], axis=1)\n",
        "\n",
        "# Create a classifier for RFE\n",
        "classifier = RandomForestClassifier()\n",
        "# Create an instance of RFE\n",
        "rfe = RFE(classifier, n_features_to_select=10)\n",
        "# Fit the RFE selector to your data\n",
        "X_new = rfe.fit_transform(X, y)\n",
        "# Get the indices of the selected features\n",
        "selected_features_indices = rfe.support_\n",
        "# Use the selected features for further analysis\n",
        "selected_features = X.columns[selected_features_indices]\n",
        "'''"
      ]
    },
    {
      "cell_type": "markdown",
      "metadata": {
        "id": "z4H2RRttiV-m"
      },
      "source": [
        "These were the 10 most important features: 'id', 'target', 'counter_number', 'region_101', 'region_103', 'catg_51', 'counter_number', 'counter_code', 'months_number'"
      ]
    },
    {
      "cell_type": "code",
      "execution_count": 19,
      "metadata": {
        "id": "_o89bBr_iV-m"
      },
      "outputs": [],
      "source": [
        "# print(selected_features)"
      ]
    },
    {
      "cell_type": "markdown",
      "metadata": {
        "id": "remMRfpksY7O"
      },
      "source": [
        "## Logistic Regression\n",
        "Now, we try to implement **logistic regression** on the clients, without any feature scaling or **resampling**"
      ]
    },
    {
      "cell_type": "code",
      "execution_count": 52,
      "metadata": {
        "colab": {
          "base_uri": "https://localhost:8080/",
          "height": 812
        },
        "id": "2xBHqPbCsUjk",
        "outputId": "1ca3621e-daca-4209-8609-ecc91575b55f"
      },
      "outputs": [
        {
          "name": "stdout",
          "output_type": "stream",
          "text": [
            "Confusion Matrix:\n",
            "True Positives (TP): 0\n",
            "True Negatives (TN): 5951\n",
            "False Positives (FP): 1\n",
            "False Negatives (FN): 369\n",
            "              precision    recall  f1-score   support\n",
            "\n",
            "           0       0.94      1.00      0.97      5952\n",
            "           1       0.00      0.00      0.00       369\n",
            "\n",
            "    accuracy                           0.94      6321\n",
            "   macro avg       0.47      0.50      0.48      6321\n",
            "weighted avg       0.89      0.94      0.91      6321\n",
            "\n"
          ]
        },
        {
          "name": "stderr",
          "output_type": "stream",
          "text": [
            "/Users/edricyeo/anaconda3/envs/cs2109s-ay2223s1/lib/python3.9/site-packages/sklearn/linear_model/_logistic.py:814: ConvergenceWarning: lbfgs failed to converge (status=1):\n",
            "STOP: TOTAL NO. of ITERATIONS REACHED LIMIT.\n",
            "\n",
            "Increase the number of iterations (max_iter) or scale the data as shown in:\n",
            "    https://scikit-learn.org/stable/modules/preprocessing.html\n",
            "Please also refer to the documentation for alternative solver options:\n",
            "    https://scikit-learn.org/stable/modules/linear_model.html#logistic-regression\n",
            "  n_iter_i = _check_optimize_result(\n"
          ]
        },
        {
          "data": {
            "image/png": "[encoded data removed]",
            "text/plain": [
              "<Figure size 640x480 with 1 Axes>"
            ]
          },
          "metadata": {},
          "output_type": "display_data"
        }
      ],
      "source": [
        "measure_logreg_performance(df)"
      ]
    },
    {
      "cell_type": "markdown",
      "metadata": {
        "id": "7UUMaM3iuGQn"
      },
      "source": [
        "Let us evaluate the performance of this logistic regression model.\n",
        "\n",
        "We can do so by calculating the **confusion matrix** and other key statistics\n",
        "\n",
        "We can also plot the **ROC curve**.\n",
        "\n",
        "**Note that in this context a \"positive\" result refers to a fradulent client**"
      ]
    },
    {
      "cell_type": "markdown",
      "metadata": {
        "id": "R91UVxoHxUaD"
      },
      "source": [
        "From the results, it seems that the logistic regression model is good, since it has a high accuracy (0.94)\n",
        "\n",
        "However, since the data is highly imbalanced (very low number of fraud/positive cases), this model may not be useful.\n",
        "\n",
        "The model had a precision of 0.14 in predicting fraud. This means that the model is not useful in accurately predicting any fradulent cases.\n",
        "\n",
        "Therefore, this logistic regression model may not be very useful if we do not perform any feature scaling or resampling"
      ]
    },
    {
      "cell_type": "markdown",
      "metadata": {
        "id": "-FYGehiE1Rsc"
      },
      "source": [
        "## Logistic Regression with resampling"
      ]
    },
    {
      "cell_type": "markdown",
      "metadata": {
        "id": "shndg6i8iHQ0"
      },
      "source": [
        "### Undersampling\n",
        "\n",
        "Here, we handle imbalanced data by only taking a sample of the majority class that has the same size as the minority class, giving us a balanced dataset with the size of 2n, where n is the size of the minority class."
      ]
    },
    {
      "cell_type": "code",
      "execution_count": 53,
      "metadata": {
        "colab": {
          "base_uri": "https://localhost:8080/",
          "height": 812
        },
        "id": "9vsY7vHYzkWo",
        "outputId": "15b0e392-f49f-45cc-dd17-1d377bcdbd1d"
      },
      "outputs": [
        {
          "name": "stdout",
          "output_type": "stream",
          "text": [
            "Confusion Matrix:\n",
            "True Positives (TP): 246\n",
            "True Negatives (TN): 203\n",
            "False Positives (FP): 165\n",
            "False Negatives (FN): 89\n",
            "              precision    recall  f1-score   support\n",
            "\n",
            "           0       0.70      0.55      0.62       368\n",
            "           1       0.60      0.73      0.66       335\n",
            "\n",
            "    accuracy                           0.64       703\n",
            "   macro avg       0.65      0.64      0.64       703\n",
            "weighted avg       0.65      0.64      0.64       703\n",
            "\n"
          ]
        },
        {
          "name": "stderr",
          "output_type": "stream",
          "text": [
            "/Users/edricyeo/anaconda3/envs/cs2109s-ay2223s1/lib/python3.9/site-packages/sklearn/linear_model/_logistic.py:814: ConvergenceWarning: lbfgs failed to converge (status=1):\n",
            "STOP: TOTAL NO. of ITERATIONS REACHED LIMIT.\n",
            "\n",
            "Increase the number of iterations (max_iter) or scale the data as shown in:\n",
            "    https://scikit-learn.org/stable/modules/preprocessing.html\n",
            "Please also refer to the documentation for alternative solver options:\n",
            "    https://scikit-learn.org/stable/modules/linear_model.html#logistic-regression\n",
            "  n_iter_i = _check_optimize_result(\n"
          ]
        },
        {
          "data": {
            "image/png": "[encoded data removed]",
            "text/plain": [
              "<Figure size 640x480 with 1 Axes>"
            ]
          },
          "metadata": {},
          "output_type": "display_data"
        }
      ],
      "source": [
        "def random_undersampling(df: pd.DataFrame) -> pd.DataFrame:\n",
        "    min = df['target'].value_counts().min()\n",
        "    legit_df = df[df['target'] == 0].sample(n=min)\n",
        "    fraud_df = df[df['target'] == 1].sample(n=min)\n",
        "    return pd.concat([legit_df, fraud_df])\n",
        "\n",
        "# Undersample the data\n",
        "df_undersampled = random_undersampling(df)\n",
        "\n",
        "# Measure performance\n",
        "measure_logreg_performance(df_undersampled)"
      ]
    },
    {
      "cell_type": "markdown",
      "metadata": {
        "id": "Bhi_rluoi8Jd"
      },
      "source": [
        "### Oversampling\n",
        "\n",
        "Here, we handle imbalanced data by only taking a sample of the minority class with duplicates such that it matches the size of the majority class. This gives us a balanced dataset of size 2m, where m is the size of the majority class."
      ]
    },
    {
      "cell_type": "code",
      "execution_count": 92,
      "metadata": {
        "colab": {
          "base_uri": "https://localhost:8080/",
          "height": 812
        },
        "id": "l6q6-yLjiqqd",
        "outputId": "446dcf72-a9a2-4b17-b91a-dd6e67f46143"
      },
      "outputs": [
        {
          "name": "stdout",
          "output_type": "stream",
          "text": [
            "Confusion Matrix:\n",
            "True Positives (TP): 4229\n",
            "True Negatives (TN): 3006\n",
            "False Positives (FP): 2970\n",
            "False Negatives (FN): 1734\n",
            "              precision    recall  f1-score   support\n",
            "\n",
            "           0       0.63      0.50      0.56      5976\n",
            "           1       0.59      0.71      0.64      5963\n",
            "\n",
            "    accuracy                           0.61     11939\n",
            "   macro avg       0.61      0.61      0.60     11939\n",
            "weighted avg       0.61      0.61      0.60     11939\n",
            "\n"
          ]
        },
        {
          "name": "stderr",
          "output_type": "stream",
          "text": [
            "/Users/edricyeo/anaconda3/envs/cs2109s-ay2223s1/lib/python3.9/site-packages/sklearn/linear_model/_logistic.py:814: ConvergenceWarning: lbfgs failed to converge (status=1):\n",
            "STOP: TOTAL NO. of ITERATIONS REACHED LIMIT.\n",
            "\n",
            "Increase the number of iterations (max_iter) or scale the data as shown in:\n",
            "    https://scikit-learn.org/stable/modules/preprocessing.html\n",
            "Please also refer to the documentation for alternative solver options:\n",
            "    https://scikit-learn.org/stable/modules/linear_model.html#logistic-regression\n",
            "  n_iter_i = _check_optimize_result(\n"
          ]
        },
        {
          "data": {
            "image/png": "[encoded data removed]",
            "text/plain": [
              "<Figure size 640x480 with 1 Axes>"
            ]
          },
          "metadata": {},
          "output_type": "display_data"
        }
      ],
      "source": [
        "def random_oversampling(df: pd.DataFrame) -> pd.DataFrame:\n",
        "    max = df['target'].value_counts().max()\n",
        "    legit_df = df[df['target'] == 0].sample(n=max, replace=True)\n",
        "    fraud_df = df[df['target'] == 1].sample(n=max, replace=True)\n",
        "    return pd.concat([legit_df, fraud_df])\n",
        "\n",
        "# Oversample the data\n",
        "df_oversampled = random_oversampling(df)\n",
        "\n",
        "# Measure performance\n",
        "measure_logreg_performance(df_oversampled)"
      ]
    },
    {
      "cell_type": "markdown",
      "metadata": {
        "id": "ShOhb3sX1w6D"
      },
      "source": [
        "## Logistic Regression with feature scaling"
      ]
    },
    {
      "cell_type": "markdown",
      "metadata": {
        "id": "rU8a4jJD2OJc"
      },
      "source": [
        "Observing the dataset, we observe that there\n",
        "\n",
        "Numerical features: year, months, counter_coefficient, number_of_invoices, con_1, con_2, con_3, con_4,\n",
        "\n",
        "Nominal features: region, dis, catg, tarif_type, counter_statue\n",
        "\n",
        "Ordinal features: reading_remarque\n",
        "\n"
      ]
    },
    {
      "cell_type": "code",
      "execution_count": 23,
      "metadata": {
        "colab": {
          "base_uri": "https://localhost:8080/"
        },
        "id": "lhYB0CUB15tD",
        "outputId": "f79ba20c-05a4-4b4b-c2b3-ce8c3e81af21"
      },
      "outputs": [
        {
          "name": "stdout",
          "output_type": "stream",
          "text": [
            "<class 'pandas.core.frame.DataFrame'>\n",
            "Int64Index: 31603 entries, 0 to 31602\n",
            "Data columns (total 35 columns):\n",
            " #   Column                         Non-Null Count  Dtype  \n",
            "---  ------                         --------------  -----  \n",
            " 0   region                         31603 non-null  int64  \n",
            " 1   year                           31603 non-null  int64  \n",
            " 2   dis                            31603 non-null  int64  \n",
            " 3   catg                           31603 non-null  int64  \n",
            " 4   target                         31603 non-null  int64  \n",
            " 5   elec_mode_tarif_type           31603 non-null  int64  \n",
            " 6   elec_mode_counter_statue       31603 non-null  int64  \n",
            " 7   elec_mode_months_number        31603 non-null  int64  \n",
            " 8   elec_mode_counter_coefficient  31603 non-null  int64  \n",
            " 9   elec_number_of_invoices        31603 non-null  int64  \n",
            " 10  elec_avg_reading_remarque      31603 non-null  float64\n",
            " 11  elec_sd_reading_remarque       31603 non-null  float64\n",
            " 12  elec_avg_con_1                 31603 non-null  float64\n",
            " 13  elec_sd_con_1                  31603 non-null  float64\n",
            " 14  elec_avg_con_2                 31603 non-null  float64\n",
            " 15  elec_sd_con_2                  31603 non-null  float64\n",
            " 16  elec_avg_con_3                 31603 non-null  float64\n",
            " 17  elec_sd_con_3                  31603 non-null  float64\n",
            " 18  elec_avg_con_4                 31603 non-null  float64\n",
            " 19  elec_sd_con_4                  31603 non-null  float64\n",
            " 20  gaz_mode_tarif_type            31603 non-null  int64  \n",
            " 21  gaz_mode_counter_statue        31603 non-null  int64  \n",
            " 22  gaz_mode_months_number         31603 non-null  int64  \n",
            " 23  gaz_mode_counter_coefficient   31603 non-null  int64  \n",
            " 24  gaz_number_of_invoices         31603 non-null  int64  \n",
            " 25  gaz_avg_reading_remarque       31603 non-null  float64\n",
            " 26  gaz_sd_reading_remarque        31603 non-null  float64\n",
            " 27  gaz_avg_con_1                  31603 non-null  float64\n",
            " 28  gaz_sd_con_1                   31603 non-null  float64\n",
            " 29  gaz_avg_con_2                  31603 non-null  float64\n",
            " 30  gaz_sd_con_2                   31603 non-null  float64\n",
            " 31  gaz_avg_con_3                  31603 non-null  float64\n",
            " 32  gaz_sd_con_3                   31603 non-null  float64\n",
            " 33  gaz_avg_con_4                  31603 non-null  float64\n",
            " 34  gaz_sd_con_4                   31603 non-null  float64\n",
            "dtypes: float64(20), int64(15)\n",
            "memory usage: 8.7 MB\n"
          ]
        }
      ],
      "source": [
        "df.info()"
      ]
    },
    {
      "cell_type": "markdown",
      "metadata": {
        "id": "OOhxw5MO8vul"
      },
      "source": [
        "Since the magnitude of these features differ quite greatly, the logistic regression model may be biased to certain features.\n",
        "\n",
        "Therefore, we perform feature scaling to improve the convergence of our logistic regression model.\n",
        "\n",
        "First, we use methods such as standardization/normalization to scale the numerical features"
      ]
    },
    {
      "cell_type": "code",
      "execution_count": 70,
      "metadata": {
        "colab": {
          "base_uri": "https://localhost:8080/"
        },
        "id": "m7CDZGBH9p6-",
        "outputId": "4a7edbeb-9743-4a45-e9d4-c6b764397b68"
      },
      "outputs": [],
      "source": [
        "scaled_df = df\n",
        "# perform feature scaling using standardization\n",
        "s_scaler = MinMaxScaler()\n",
        "\n",
        "# we want to scale numerical features: year, month, counter_coefficient, number_of_invoices, con_1, con_2, con_3, con_4\n",
        "numerical_features_idxs = [1, 7, 8, 9, 10, 11, 12, 13, 14, 15, 16, 17, 18, 19,\n",
        "                           22, 23, 24, 25, 26, 27, 28, 29, 30, 31, 32, 33, 34]\n",
        "# grab the subset of numerical features to be scaled and standardise it\n",
        "std_subset = scaled_df.iloc[:, numerical_features_idxs]\n",
        "standardized_data = pd.DataFrame(s_scaler.fit_transform(std_subset), columns=std_subset.columns)\n",
        "scaled_df.iloc[:, numerical_features_idxs] = standardized_data\n",
        "\n",
        "# we perform one-hot encoding on categorical features: region, dis, catg, tarif_type\n",
        "categorical_feats = ['region', 'dis', 'catg', 'elec_mode_tarif_type', 'elec_mode_counter_statue', 'gaz_mode_tarif_type', 'gaz_mode_counter_statue']\n",
        "categorical_features_encoded = pd.get_dummies(scaled_df, columns=categorical_feats)\n",
        "# Concatenate one-hot encoded categorical features with numerical features\n",
        "numerical_features = scaled_df.drop(categorical_feats + [\"target\"], axis=1)\n",
        "scaled_df = pd.concat([categorical_features_encoded, numerical_features], axis=1)"
      ]
    },
    {
      "cell_type": "markdown",
      "metadata": {
        "id": "uYiRj9iEERWw"
      },
      "source": [
        "Perform logistic regression with this data"
      ]
    },
    {
      "cell_type": "code",
      "execution_count": 71,
      "metadata": {
        "colab": {
          "base_uri": "https://localhost:8080/",
          "height": 255
        },
        "id": "-6sc67jMEUW7",
        "outputId": "4404a3bf-ad72-4516-c1b6-9d13fa9feef7"
      },
      "outputs": [
        {
          "data": {
            "text/html": [
              "<div>\n",
              "<style scoped>\n",
              "    .dataframe tbody tr th:only-of-type {\n",
              "        vertical-align: middle;\n",
              "    }\n",
              "\n",
              "    .dataframe tbody tr th {\n",
              "        vertical-align: top;\n",
              "    }\n",
              "\n",
              "    .dataframe thead th {\n",
              "        text-align: right;\n",
              "    }\n",
              "</style>\n",
              "<table border=\"1\" class=\"dataframe\">\n",
              "  <thead>\n",
              "    <tr style=\"text-align: right;\">\n",
              "      <th></th>\n",
              "      <th>year</th>\n",
              "      <th>target</th>\n",
              "      <th>elec_mode_months_number</th>\n",
              "      <th>elec_mode_counter_coefficient</th>\n",
              "      <th>elec_number_of_invoices</th>\n",
              "      <th>elec_avg_reading_remarque</th>\n",
              "      <th>elec_sd_reading_remarque</th>\n",
              "      <th>elec_avg_con_1</th>\n",
              "      <th>elec_sd_con_1</th>\n",
              "      <th>elec_avg_con_2</th>\n",
              "      <th>...</th>\n",
              "      <th>gaz_avg_reading_remarque</th>\n",
              "      <th>gaz_sd_reading_remarque</th>\n",
              "      <th>gaz_avg_con_1</th>\n",
              "      <th>gaz_sd_con_1</th>\n",
              "      <th>gaz_avg_con_2</th>\n",
              "      <th>gaz_sd_con_2</th>\n",
              "      <th>gaz_avg_con_3</th>\n",
              "      <th>gaz_sd_con_3</th>\n",
              "      <th>gaz_avg_con_4</th>\n",
              "      <th>gaz_sd_con_4</th>\n",
              "    </tr>\n",
              "  </thead>\n",
              "  <tbody>\n",
              "    <tr>\n",
              "      <th>0</th>\n",
              "      <td>0.404762</td>\n",
              "      <td>0</td>\n",
              "      <td>0.000033</td>\n",
              "      <td>0.039216</td>\n",
              "      <td>0.079727</td>\n",
              "      <td>0.797143</td>\n",
              "      <td>0.720270</td>\n",
              "      <td>0.006694</td>\n",
              "      <td>0.006313</td>\n",
              "      <td>0.000297</td>\n",
              "      <td>...</td>\n",
              "      <td>0.0</td>\n",
              "      <td>0.0</td>\n",
              "      <td>0.0</td>\n",
              "      <td>0.0</td>\n",
              "      <td>0.0</td>\n",
              "      <td>0.0</td>\n",
              "      <td>0.0</td>\n",
              "      <td>0.0</td>\n",
              "      <td>0.0</td>\n",
              "      <td>0.0</td>\n",
              "    </tr>\n",
              "    <tr>\n",
              "      <th>1</th>\n",
              "      <td>0.595238</td>\n",
              "      <td>0</td>\n",
              "      <td>0.000033</td>\n",
              "      <td>0.039216</td>\n",
              "      <td>0.084282</td>\n",
              "      <td>0.821622</td>\n",
              "      <td>0.761568</td>\n",
              "      <td>0.010580</td>\n",
              "      <td>0.004034</td>\n",
              "      <td>0.000026</td>\n",
              "      <td>...</td>\n",
              "      <td>0.0</td>\n",
              "      <td>0.0</td>\n",
              "      <td>0.0</td>\n",
              "      <td>0.0</td>\n",
              "      <td>0.0</td>\n",
              "      <td>0.0</td>\n",
              "      <td>0.0</td>\n",
              "      <td>0.0</td>\n",
              "      <td>0.0</td>\n",
              "      <td>0.0</td>\n",
              "    </tr>\n",
              "    <tr>\n",
              "      <th>2</th>\n",
              "      <td>0.214286</td>\n",
              "      <td>0</td>\n",
              "      <td>0.000033</td>\n",
              "      <td>0.039216</td>\n",
              "      <td>0.041002</td>\n",
              "      <td>0.805556</td>\n",
              "      <td>0.723718</td>\n",
              "      <td>0.015147</td>\n",
              "      <td>0.010439</td>\n",
              "      <td>0.000997</td>\n",
              "      <td>...</td>\n",
              "      <td>0.0</td>\n",
              "      <td>0.0</td>\n",
              "      <td>0.0</td>\n",
              "      <td>0.0</td>\n",
              "      <td>0.0</td>\n",
              "      <td>0.0</td>\n",
              "      <td>0.0</td>\n",
              "      <td>0.0</td>\n",
              "      <td>0.0</td>\n",
              "      <td>0.0</td>\n",
              "    </tr>\n",
              "    <tr>\n",
              "      <th>3</th>\n",
              "      <td>0.452381</td>\n",
              "      <td>0</td>\n",
              "      <td>0.000033</td>\n",
              "      <td>0.039216</td>\n",
              "      <td>0.045558</td>\n",
              "      <td>0.715000</td>\n",
              "      <td>0.535293</td>\n",
              "      <td>0.000042</td>\n",
              "      <td>0.000093</td>\n",
              "      <td>0.000026</td>\n",
              "      <td>...</td>\n",
              "      <td>0.0</td>\n",
              "      <td>0.0</td>\n",
              "      <td>0.0</td>\n",
              "      <td>0.0</td>\n",
              "      <td>0.0</td>\n",
              "      <td>0.0</td>\n",
              "      <td>0.0</td>\n",
              "      <td>0.0</td>\n",
              "      <td>0.0</td>\n",
              "      <td>0.0</td>\n",
              "    </tr>\n",
              "    <tr>\n",
              "      <th>4</th>\n",
              "      <td>0.880952</td>\n",
              "      <td>0</td>\n",
              "      <td>0.000033</td>\n",
              "      <td>0.039216</td>\n",
              "      <td>0.031891</td>\n",
              "      <td>0.985714</td>\n",
              "      <td>0.436718</td>\n",
              "      <td>0.012591</td>\n",
              "      <td>0.004579</td>\n",
              "      <td>0.002714</td>\n",
              "      <td>...</td>\n",
              "      <td>0.0</td>\n",
              "      <td>0.0</td>\n",
              "      <td>0.0</td>\n",
              "      <td>0.0</td>\n",
              "      <td>0.0</td>\n",
              "      <td>0.0</td>\n",
              "      <td>0.0</td>\n",
              "      <td>0.0</td>\n",
              "      <td>0.0</td>\n",
              "      <td>0.0</td>\n",
              "    </tr>\n",
              "  </tbody>\n",
              "</table>\n",
              "<p>5 rows × 113 columns</p>\n",
              "</div>"
            ],
            "text/plain": [
              "       year  target  elec_mode_months_number  elec_mode_counter_coefficient  \\\n",
              "0  0.404762       0                 0.000033                       0.039216   \n",
              "1  0.595238       0                 0.000033                       0.039216   \n",
              "2  0.214286       0                 0.000033                       0.039216   \n",
              "3  0.452381       0                 0.000033                       0.039216   \n",
              "4  0.880952       0                 0.000033                       0.039216   \n",
              "\n",
              "   elec_number_of_invoices  elec_avg_reading_remarque  \\\n",
              "0                 0.079727                   0.797143   \n",
              "1                 0.084282                   0.821622   \n",
              "2                 0.041002                   0.805556   \n",
              "3                 0.045558                   0.715000   \n",
              "4                 0.031891                   0.985714   \n",
              "\n",
              "   elec_sd_reading_remarque  elec_avg_con_1  elec_sd_con_1  elec_avg_con_2  \\\n",
              "0                  0.720270        0.006694       0.006313        0.000297   \n",
              "1                  0.761568        0.010580       0.004034        0.000026   \n",
              "2                  0.723718        0.015147       0.010439        0.000997   \n",
              "3                  0.535293        0.000042       0.000093        0.000026   \n",
              "4                  0.436718        0.012591       0.004579        0.002714   \n",
              "\n",
              "   ...  gaz_avg_reading_remarque  gaz_sd_reading_remarque  gaz_avg_con_1  \\\n",
              "0  ...                       0.0                      0.0            0.0   \n",
              "1  ...                       0.0                      0.0            0.0   \n",
              "2  ...                       0.0                      0.0            0.0   \n",
              "3  ...                       0.0                      0.0            0.0   \n",
              "4  ...                       0.0                      0.0            0.0   \n",
              "\n",
              "   gaz_sd_con_1  gaz_avg_con_2  gaz_sd_con_2  gaz_avg_con_3  gaz_sd_con_3  \\\n",
              "0           0.0            0.0           0.0            0.0           0.0   \n",
              "1           0.0            0.0           0.0            0.0           0.0   \n",
              "2           0.0            0.0           0.0            0.0           0.0   \n",
              "3           0.0            0.0           0.0            0.0           0.0   \n",
              "4           0.0            0.0           0.0            0.0           0.0   \n",
              "\n",
              "   gaz_avg_con_4  gaz_sd_con_4  \n",
              "0            0.0           0.0  \n",
              "1            0.0           0.0  \n",
              "2            0.0           0.0  \n",
              "3            0.0           0.0  \n",
              "4            0.0           0.0  \n",
              "\n",
              "[5 rows x 113 columns]"
            ]
          },
          "execution_count": 71,
          "metadata": {},
          "output_type": "execute_result"
        }
      ],
      "source": [
        "scaled_df.head()\n"
      ]
    },
    {
      "cell_type": "code",
      "execution_count": 73,
      "metadata": {
        "colab": {
          "base_uri": "https://localhost:8080/",
          "height": 812
        },
        "id": "5E07JINTgcL4",
        "outputId": "e343d6d9-9f67-496d-a8d3-bde85df0a646"
      },
      "outputs": [
        {
          "name": "stdout",
          "output_type": "stream",
          "text": [
            "Confusion Matrix:\n",
            "True Positives (TP): 0\n",
            "True Negatives (TN): 5951\n",
            "False Positives (FP): 1\n",
            "False Negatives (FN): 369\n",
            "              precision    recall  f1-score   support\n",
            "\n",
            "           0       0.94      1.00      0.97      5952\n",
            "           1       0.00      0.00      0.00       369\n",
            "\n",
            "    accuracy                           0.94      6321\n",
            "   macro avg       0.47      0.50      0.48      6321\n",
            "weighted avg       0.89      0.94      0.91      6321\n",
            "\n"
          ]
        },
        {
          "name": "stderr",
          "output_type": "stream",
          "text": [
            "/Users/edricyeo/anaconda3/envs/cs2109s-ay2223s1/lib/python3.9/site-packages/sklearn/linear_model/_logistic.py:814: ConvergenceWarning: lbfgs failed to converge (status=1):\n",
            "STOP: TOTAL NO. of ITERATIONS REACHED LIMIT.\n",
            "\n",
            "Increase the number of iterations (max_iter) or scale the data as shown in:\n",
            "    https://scikit-learn.org/stable/modules/preprocessing.html\n",
            "Please also refer to the documentation for alternative solver options:\n",
            "    https://scikit-learn.org/stable/modules/linear_model.html#logistic-regression\n",
            "  n_iter_i = _check_optimize_result(\n"
          ]
        },
        {
          "data": {
            "image/png": "[encoded data removed]",
            "text/plain": [
              "<Figure size 640x480 with 1 Axes>"
            ]
          },
          "metadata": {},
          "output_type": "display_data"
        }
      ],
      "source": [
        "measure_logreg_performance(scaled_df)"
      ]
    },
    {
      "cell_type": "markdown",
      "metadata": {
        "id": "_aX3uACGiV-w"
      },
      "source": [
        "Here we see that with feature scaling and one-hot encoding of categorical variables, the performance of the logistic regression model improved slightly. The area under the ROC curve increase from 0.698 (without resampling) to 0.725."
      ]
    },
    {
      "cell_type": "markdown",
      "metadata": {
        "id": "dmBhEJxR5cYX"
      },
      "source": [
        "## Logistic Regression with resampling and feature scaling"
      ]
    },
    {
      "cell_type": "markdown",
      "metadata": {
        "id": "CAqQKMN25hAr"
      },
      "source": [
        "Since we concluded that feature scaling is useful in increasing the performance of our model, and resamplin makes the results of our model less biased, we try to implement both resampling and feature scaling"
      ]
    },
    {
      "cell_type": "code",
      "execution_count": 27,
      "metadata": {
        "id": "M8qcJAvp5iBS"
      },
      "outputs": [],
      "source": [
        "# Feature Scaling + Undersampling\n",
        "scaled_df_us = random_undersampling(scaled_df)\n",
        "\n",
        "# Feature Scaling + Oversampling\n",
        "scaled_df_os = random_oversampling(scaled_df)"
      ]
    },
    {
      "cell_type": "markdown",
      "metadata": {
        "id": "3Olslu4BiV-w"
      },
      "source": [
        "Lets compare the performance of the model using resampling and feature scaling"
      ]
    },
    {
      "cell_type": "code",
      "execution_count": 78,
      "metadata": {
        "colab": {
          "base_uri": "https://localhost:8080/",
          "height": 1000
        },
        "id": "Fl5ujMgriV-w",
        "outputId": "a758ac49-b3a6-404b-eae6-3b5aa312757a"
      },
      "outputs": [
        {
          "name": "stdout",
          "output_type": "stream",
          "text": [
            "Confusion Matrix:\n",
            "True Positives (TP): 236\n",
            "True Negatives (TN): 223\n",
            "False Positives (FP): 145\n",
            "False Negatives (FN): 99\n",
            "              precision    recall  f1-score   support\n",
            "\n",
            "           0       0.69      0.61      0.65       368\n",
            "           1       0.62      0.70      0.66       335\n",
            "\n",
            "    accuracy                           0.65       703\n",
            "   macro avg       0.66      0.66      0.65       703\n",
            "weighted avg       0.66      0.65      0.65       703\n",
            "\n"
          ]
        },
        {
          "name": "stderr",
          "output_type": "stream",
          "text": [
            "/Users/edricyeo/anaconda3/envs/cs2109s-ay2223s1/lib/python3.9/site-packages/sklearn/linear_model/_logistic.py:814: ConvergenceWarning: lbfgs failed to converge (status=1):\n",
            "STOP: TOTAL NO. of ITERATIONS REACHED LIMIT.\n",
            "\n",
            "Increase the number of iterations (max_iter) or scale the data as shown in:\n",
            "    https://scikit-learn.org/stable/modules/preprocessing.html\n",
            "Please also refer to the documentation for alternative solver options:\n",
            "    https://scikit-learn.org/stable/modules/linear_model.html#logistic-regression\n",
            "  n_iter_i = _check_optimize_result(\n"
          ]
        },
        {
          "data": {
            "image/png": "[encoded data removed]",
            "text/plain": [
              "<Figure size 640x480 with 1 Axes>"
            ]
          },
          "metadata": {},
          "output_type": "display_data"
        },
        {
          "name": "stdout",
          "output_type": "stream",
          "text": [
            "Confusion Matrix:\n",
            "True Positives (TP): 4145\n",
            "True Negatives (TN): 3821\n",
            "False Positives (FP): 2155\n",
            "False Negatives (FN): 1818\n",
            "              precision    recall  f1-score   support\n",
            "\n",
            "           0       0.68      0.64      0.66      5976\n",
            "           1       0.66      0.70      0.68      5963\n",
            "\n",
            "    accuracy                           0.67     11939\n",
            "   macro avg       0.67      0.67      0.67     11939\n",
            "weighted avg       0.67      0.67      0.67     11939\n",
            "\n"
          ]
        },
        {
          "name": "stderr",
          "output_type": "stream",
          "text": [
            "/Users/edricyeo/anaconda3/envs/cs2109s-ay2223s1/lib/python3.9/site-packages/sklearn/linear_model/_logistic.py:814: ConvergenceWarning: lbfgs failed to converge (status=1):\n",
            "STOP: TOTAL NO. of ITERATIONS REACHED LIMIT.\n",
            "\n",
            "Increase the number of iterations (max_iter) or scale the data as shown in:\n",
            "    https://scikit-learn.org/stable/modules/preprocessing.html\n",
            "Please also refer to the documentation for alternative solver options:\n",
            "    https://scikit-learn.org/stable/modules/linear_model.html#logistic-regression\n",
            "  n_iter_i = _check_optimize_result(\n"
          ]
        },
        {
          "data": {
            "image/png": "[encoded data removed]",
            "text/plain": [
              "<Figure size 640x480 with 1 Axes>"
            ]
          },
          "metadata": {},
          "output_type": "display_data"
        }
      ],
      "source": [
        "measure_logreg_performance(scaled_df_us)\n",
        "measure_logreg_performance(scaled_df_os)"
      ]
    },
    {
      "cell_type": "markdown",
      "metadata": {
        "id": "swzDrfWQiV-w"
      },
      "source": [
        "From the results, we can see that the accuracy of the model using feature scaling and undersampling is 0.68, and AUC is 0.755, while the accuracy of the model using feature scaling and oversampling is 0.66 and AUC is 0.731.\n",
        "\n",
        "The area under the ROC curve is 0.731, which shows that our model has a 73.1% chance to distinguish between a fraud and non-fraud client. Therefore, this model is useful."
      ]
    },
    {
      "cell_type": "markdown",
      "metadata": {
        "id": "sN-_jFgE3URK"
      },
      "source": [
        "## K-Nearest Neighbors (KNN)"
      ]
    },
    {
      "cell_type": "markdown",
      "metadata": {
        "id": "Qgtk0GPAPoii"
      },
      "source": [
        "Nominal features: region, dis, catg, tarif_type, counter_statue\n",
        "Next, we perform KNN on the dataset, with the scaled data."
      ]
    },
    {
      "cell_type": "code",
      "execution_count": 47,
      "metadata": {
        "colab": {
          "base_uri": "https://localhost:8080/"
        },
        "id": "JR4I6VHu3hNY",
        "outputId": "f02d2c08-1a71-4127-b654-2b6cac979cf5"
      },
      "outputs": [
        {
          "name": "stdout",
          "output_type": "stream",
          "text": [
            "Confusion Matrix [[TN FP] [FN TP]]: [[5952    0]\n",
            " [ 369    0]]\n",
            "5952 0 369 0\n",
            "accuracy = 0.9416231608922638\n",
            "precision = nan\n",
            "recall = 0.0\n",
            "FPR = 0.0\n"
          ]
        },
        {
          "name": "stderr",
          "output_type": "stream",
          "text": [
            "/Users/edricyeo/anaconda3/envs/cs2109s-ay2223s1/lib/python3.9/site-packages/sklearn/neighbors/_classification.py:228: FutureWarning: Unlike other reduction functions (e.g. `skew`, `kurtosis`), the default behavior of `mode` typically preserves the axis it acts along. In SciPy 1.11.0, this behavior will change: the default value of `keepdims` will become False, the `axis` over which the statistic is taken will be eliminated, and the value None will no longer be accepted. Set `keepdims` to True or False to avoid this warning.\n",
            "  mode, _ = stats.mode(_y[neigh_ind, k], axis=1)\n",
            "/var/folders/97/dwh90kfn0db3d8d2fwwh_6x80000gn/T/ipykernel_74097/1862949972.py:25: RuntimeWarning: invalid value encountered in long_scalars\n",
            "  precision = TP / (TP + FP)\n"
          ]
        }
      ],
      "source": [
        "X1 = scaled_df.drop('target', axis=1)\n",
        "y1 = scaled_df['target']\n",
        "X1_train, X1_test, y1_train, y1_test = train_test_split(X1, y1, test_size=0.2, random_state=101)\n",
        "\n",
        "knn = KNeighborsClassifier(n_neighbors = int(math.sqrt(len(X1))))\n",
        "knn.fit(X1_train, y1_train)\n",
        "pred = knn.predict(X1_test)\n",
        "\n",
        "conf_matrix = confusion_matrix(y1_test, pred)\n",
        "label = ['not fraud', 'fraud']\n",
        "\n",
        "\n",
        "print('Confusion Matrix [[TN FP] [FN TP]]:', conf_matrix)\n",
        "\n",
        "# Extract values from the confusion matrix\n",
        "TN, FP, FN, TP = conf_matrix.ravel()\n",
        "\n",
        "print(TN, FP, FN, TP )\n",
        "\n",
        "accuracy = (TP + TN) / (TP + TN + FP + FN)\n",
        "print(f'accuracy = {accuracy}')\n",
        "\n",
        "\n",
        "# Precision\n",
        "precision = TP / (TP + FP)\n",
        "print(f'precision = {precision}')\n",
        "\n",
        "# True Positive Rate (Sensitivity or Recall)\n",
        "recall = TP / (TP + FN)\n",
        "print(f'recall = {recall}')\n",
        "\n",
        "# False Positive Rate\n",
        "fpr = FP / (FP + TN)\n",
        "print(f'FPR = {fpr}')\n",
        "\n",
        "\n",
        "#positive means fraud\n",
        "\n",
        "#measure_performance(y1_test, pred)\n",
        "#print(len(X_test))\n",
        "#print(len(X_train))\n",
        "\n",
        "#print(len(scaled_df))"
      ]
    },
    {
      "cell_type": "code",
      "execution_count": 49,
      "metadata": {
        "colab": {
          "base_uri": "https://localhost:8080/",
          "height": 718
        },
        "id": "8kVcKmn5zoCN",
        "outputId": "05fa4ce3-df2c-46a0-82cd-c686ad73d19a"
      },
      "outputs": [
        {
          "data": {
            "image/png": "[encoded data removed]",
            "text/plain": [
              "<Figure size 800x800 with 1 Axes>"
            ]
          },
          "metadata": {},
          "output_type": "display_data"
        }
      ],
      "source": [
        "y1_prob = knn.predict_proba(X1_test)[:, 1]\n",
        "\n",
        "# Compute ROC curve and ROC area\n",
        "fpr, tpr, thresholds = roc_curve(y1_test, y1_prob)\n",
        "roc_auc = auc(fpr, tpr)\n",
        "\n",
        "# Plot the ROC curve\n",
        "plt.figure(figsize=(8, 8))\n",
        "plt.plot(fpr, tpr, lw=2, label=f'ROC curve (AUC = {roc_auc:.2f})')\n",
        "plt.plot([0, 1], [0, 1], color='darkorange', lw=2, linestyle='--')\n",
        "plt.xlim([0.0, 1.0])\n",
        "plt.ylim([0.0, 1.05])\n",
        "plt.xlabel('False Positive Rate')\n",
        "plt.ylabel('True Positive Rate')\n",
        "plt.title('Receiver Operating Characteristic (ROC) Curve')\n",
        "plt.legend(loc=\"lower right\")\n",
        "plt.show()"
      ]
    },
    {
      "cell_type": "markdown",
      "metadata": {
        "id": "xE0ax2XZ2dzq"
      },
      "source": [
        "\n",
        "\n",
        "Once again, KNN returned a high accuracy of 0.94 similary, it uncertained that this model was useful be useful because of the highly imbalanced dataset and low number of fraud cases.  "
      ]
    },
    {
      "cell_type": "markdown",
      "metadata": {
        "id": "xXKfNMGDiV-x"
      },
      "source": [
        "\n",
        "Cross validation"
      ]
    },
    {
      "cell_type": "code",
      "execution_count": 38,
      "metadata": {
        "colab": {
          "base_uri": "https://localhost:8080/"
        },
        "id": "o5jxmKX0iV-x",
        "outputId": "488bf37e-36a5-468b-ee72-e66255ce6f18"
      },
      "outputs": [
        {
          "name": "stderr",
          "output_type": "stream",
          "text": [
            "/Users/edricyeo/anaconda3/envs/cs2109s-ay2223s1/lib/python3.9/site-packages/sklearn/neighbors/_classification.py:228: FutureWarning: Unlike other reduction functions (e.g. `skew`, `kurtosis`), the default behavior of `mode` typically preserves the axis it acts along. In SciPy 1.11.0, this behavior will change: the default value of `keepdims` will become False, the `axis` over which the statistic is taken will be eliminated, and the value None will no longer be accepted. Set `keepdims` to True or False to avoid this warning.\n",
            "  mode, _ = stats.mode(_y[neigh_ind, k], axis=1)\n",
            "/Users/edricyeo/anaconda3/envs/cs2109s-ay2223s1/lib/python3.9/site-packages/sklearn/neighbors/_classification.py:228: FutureWarning: Unlike other reduction functions (e.g. `skew`, `kurtosis`), the default behavior of `mode` typically preserves the axis it acts along. In SciPy 1.11.0, this behavior will change: the default value of `keepdims` will become False, the `axis` over which the statistic is taken will be eliminated, and the value None will no longer be accepted. Set `keepdims` to True or False to avoid this warning.\n",
            "  mode, _ = stats.mode(_y[neigh_ind, k], axis=1)\n",
            "/Users/edricyeo/anaconda3/envs/cs2109s-ay2223s1/lib/python3.9/site-packages/sklearn/neighbors/_classification.py:228: FutureWarning: Unlike other reduction functions (e.g. `skew`, `kurtosis`), the default behavior of `mode` typically preserves the axis it acts along. In SciPy 1.11.0, this behavior will change: the default value of `keepdims` will become False, the `axis` over which the statistic is taken will be eliminated, and the value None will no longer be accepted. Set `keepdims` to True or False to avoid this warning.\n",
            "  mode, _ = stats.mode(_y[neigh_ind, k], axis=1)\n",
            "/Users/edricyeo/anaconda3/envs/cs2109s-ay2223s1/lib/python3.9/site-packages/sklearn/neighbors/_classification.py:228: FutureWarning: Unlike other reduction functions (e.g. `skew`, `kurtosis`), the default behavior of `mode` typically preserves the axis it acts along. In SciPy 1.11.0, this behavior will change: the default value of `keepdims` will become False, the `axis` over which the statistic is taken will be eliminated, and the value None will no longer be accepted. Set `keepdims` to True or False to avoid this warning.\n",
            "  mode, _ = stats.mode(_y[neigh_ind, k], axis=1)\n",
            "/Users/edricyeo/anaconda3/envs/cs2109s-ay2223s1/lib/python3.9/site-packages/sklearn/neighbors/_classification.py:228: FutureWarning: Unlike other reduction functions (e.g. `skew`, `kurtosis`), the default behavior of `mode` typically preserves the axis it acts along. In SciPy 1.11.0, this behavior will change: the default value of `keepdims` will become False, the `axis` over which the statistic is taken will be eliminated, and the value None will no longer be accepted. Set `keepdims` to True or False to avoid this warning.\n",
            "  mode, _ = stats.mode(_y[neigh_ind, k], axis=1)\n",
            "/Users/edricyeo/anaconda3/envs/cs2109s-ay2223s1/lib/python3.9/site-packages/sklearn/neighbors/_classification.py:228: FutureWarning: Unlike other reduction functions (e.g. `skew`, `kurtosis`), the default behavior of `mode` typically preserves the axis it acts along. In SciPy 1.11.0, this behavior will change: the default value of `keepdims` will become False, the `axis` over which the statistic is taken will be eliminated, and the value None will no longer be accepted. Set `keepdims` to True or False to avoid this warning.\n",
            "  mode, _ = stats.mode(_y[neigh_ind, k], axis=1)\n",
            "/Users/edricyeo/anaconda3/envs/cs2109s-ay2223s1/lib/python3.9/site-packages/sklearn/neighbors/_classification.py:228: FutureWarning: Unlike other reduction functions (e.g. `skew`, `kurtosis`), the default behavior of `mode` typically preserves the axis it acts along. In SciPy 1.11.0, this behavior will change: the default value of `keepdims` will become False, the `axis` over which the statistic is taken will be eliminated, and the value None will no longer be accepted. Set `keepdims` to True or False to avoid this warning.\n",
            "  mode, _ = stats.mode(_y[neigh_ind, k], axis=1)\n",
            "/Users/edricyeo/anaconda3/envs/cs2109s-ay2223s1/lib/python3.9/site-packages/sklearn/neighbors/_classification.py:228: FutureWarning: Unlike other reduction functions (e.g. `skew`, `kurtosis`), the default behavior of `mode` typically preserves the axis it acts along. In SciPy 1.11.0, this behavior will change: the default value of `keepdims` will become False, the `axis` over which the statistic is taken will be eliminated, and the value None will no longer be accepted. Set `keepdims` to True or False to avoid this warning.\n",
            "  mode, _ = stats.mode(_y[neigh_ind, k], axis=1)\n",
            "/Users/edricyeo/anaconda3/envs/cs2109s-ay2223s1/lib/python3.9/site-packages/sklearn/neighbors/_classification.py:228: FutureWarning: Unlike other reduction functions (e.g. `skew`, `kurtosis`), the default behavior of `mode` typically preserves the axis it acts along. In SciPy 1.11.0, this behavior will change: the default value of `keepdims` will become False, the `axis` over which the statistic is taken will be eliminated, and the value None will no longer be accepted. Set `keepdims` to True or False to avoid this warning.\n",
            "  mode, _ = stats.mode(_y[neigh_ind, k], axis=1)\n",
            "/Users/edricyeo/anaconda3/envs/cs2109s-ay2223s1/lib/python3.9/site-packages/sklearn/neighbors/_classification.py:228: FutureWarning: Unlike other reduction functions (e.g. `skew`, `kurtosis`), the default behavior of `mode` typically preserves the axis it acts along. In SciPy 1.11.0, this behavior will change: the default value of `keepdims` will become False, the `axis` over which the statistic is taken will be eliminated, and the value None will no longer be accepted. Set `keepdims` to True or False to avoid this warning.\n",
            "  mode, _ = stats.mode(_y[neigh_ind, k], axis=1)\n"
          ]
        },
        {
          "name": "stdout",
          "output_type": "stream",
          "text": [
            "Average TPR for k=1: 0.10016883116883117\n"
          ]
        },
        {
          "name": "stderr",
          "output_type": "stream",
          "text": [
            "/Users/edricyeo/anaconda3/envs/cs2109s-ay2223s1/lib/python3.9/site-packages/sklearn/neighbors/_classification.py:228: FutureWarning: Unlike other reduction functions (e.g. `skew`, `kurtosis`), the default behavior of `mode` typically preserves the axis it acts along. In SciPy 1.11.0, this behavior will change: the default value of `keepdims` will become False, the `axis` over which the statistic is taken will be eliminated, and the value None will no longer be accepted. Set `keepdims` to True or False to avoid this warning.\n",
            "  mode, _ = stats.mode(_y[neigh_ind, k], axis=1)\n",
            "/Users/edricyeo/anaconda3/envs/cs2109s-ay2223s1/lib/python3.9/site-packages/sklearn/neighbors/_classification.py:228: FutureWarning: Unlike other reduction functions (e.g. `skew`, `kurtosis`), the default behavior of `mode` typically preserves the axis it acts along. In SciPy 1.11.0, this behavior will change: the default value of `keepdims` will become False, the `axis` over which the statistic is taken will be eliminated, and the value None will no longer be accepted. Set `keepdims` to True or False to avoid this warning.\n",
            "  mode, _ = stats.mode(_y[neigh_ind, k], axis=1)\n",
            "/Users/edricyeo/anaconda3/envs/cs2109s-ay2223s1/lib/python3.9/site-packages/sklearn/neighbors/_classification.py:228: FutureWarning: Unlike other reduction functions (e.g. `skew`, `kurtosis`), the default behavior of `mode` typically preserves the axis it acts along. In SciPy 1.11.0, this behavior will change: the default value of `keepdims` will become False, the `axis` over which the statistic is taken will be eliminated, and the value None will no longer be accepted. Set `keepdims` to True or False to avoid this warning.\n",
            "  mode, _ = stats.mode(_y[neigh_ind, k], axis=1)\n",
            "/Users/edricyeo/anaconda3/envs/cs2109s-ay2223s1/lib/python3.9/site-packages/sklearn/neighbors/_classification.py:228: FutureWarning: Unlike other reduction functions (e.g. `skew`, `kurtosis`), the default behavior of `mode` typically preserves the axis it acts along. In SciPy 1.11.0, this behavior will change: the default value of `keepdims` will become False, the `axis` over which the statistic is taken will be eliminated, and the value None will no longer be accepted. Set `keepdims` to True or False to avoid this warning.\n",
            "  mode, _ = stats.mode(_y[neigh_ind, k], axis=1)\n",
            "/Users/edricyeo/anaconda3/envs/cs2109s-ay2223s1/lib/python3.9/site-packages/sklearn/neighbors/_classification.py:228: FutureWarning: Unlike other reduction functions (e.g. `skew`, `kurtosis`), the default behavior of `mode` typically preserves the axis it acts along. In SciPy 1.11.0, this behavior will change: the default value of `keepdims` will become False, the `axis` over which the statistic is taken will be eliminated, and the value None will no longer be accepted. Set `keepdims` to True or False to avoid this warning.\n",
            "  mode, _ = stats.mode(_y[neigh_ind, k], axis=1)\n",
            "/Users/edricyeo/anaconda3/envs/cs2109s-ay2223s1/lib/python3.9/site-packages/sklearn/neighbors/_classification.py:228: FutureWarning: Unlike other reduction functions (e.g. `skew`, `kurtosis`), the default behavior of `mode` typically preserves the axis it acts along. In SciPy 1.11.0, this behavior will change: the default value of `keepdims` will become False, the `axis` over which the statistic is taken will be eliminated, and the value None will no longer be accepted. Set `keepdims` to True or False to avoid this warning.\n",
            "  mode, _ = stats.mode(_y[neigh_ind, k], axis=1)\n",
            "/Users/edricyeo/anaconda3/envs/cs2109s-ay2223s1/lib/python3.9/site-packages/sklearn/neighbors/_classification.py:228: FutureWarning: Unlike other reduction functions (e.g. `skew`, `kurtosis`), the default behavior of `mode` typically preserves the axis it acts along. In SciPy 1.11.0, this behavior will change: the default value of `keepdims` will become False, the `axis` over which the statistic is taken will be eliminated, and the value None will no longer be accepted. Set `keepdims` to True or False to avoid this warning.\n",
            "  mode, _ = stats.mode(_y[neigh_ind, k], axis=1)\n",
            "/Users/edricyeo/anaconda3/envs/cs2109s-ay2223s1/lib/python3.9/site-packages/sklearn/neighbors/_classification.py:228: FutureWarning: Unlike other reduction functions (e.g. `skew`, `kurtosis`), the default behavior of `mode` typically preserves the axis it acts along. In SciPy 1.11.0, this behavior will change: the default value of `keepdims` will become False, the `axis` over which the statistic is taken will be eliminated, and the value None will no longer be accepted. Set `keepdims` to True or False to avoid this warning.\n",
            "  mode, _ = stats.mode(_y[neigh_ind, k], axis=1)\n",
            "/Users/edricyeo/anaconda3/envs/cs2109s-ay2223s1/lib/python3.9/site-packages/sklearn/neighbors/_classification.py:228: FutureWarning: Unlike other reduction functions (e.g. `skew`, `kurtosis`), the default behavior of `mode` typically preserves the axis it acts along. In SciPy 1.11.0, this behavior will change: the default value of `keepdims` will become False, the `axis` over which the statistic is taken will be eliminated, and the value None will no longer be accepted. Set `keepdims` to True or False to avoid this warning.\n",
            "  mode, _ = stats.mode(_y[neigh_ind, k], axis=1)\n",
            "/Users/edricyeo/anaconda3/envs/cs2109s-ay2223s1/lib/python3.9/site-packages/sklearn/neighbors/_classification.py:228: FutureWarning: Unlike other reduction functions (e.g. `skew`, `kurtosis`), the default behavior of `mode` typically preserves the axis it acts along. In SciPy 1.11.0, this behavior will change: the default value of `keepdims` will become False, the `axis` over which the statistic is taken will be eliminated, and the value None will no longer be accepted. Set `keepdims` to True or False to avoid this warning.\n",
            "  mode, _ = stats.mode(_y[neigh_ind, k], axis=1)\n"
          ]
        },
        {
          "name": "stdout",
          "output_type": "stream",
          "text": [
            "Average TPR for k=3: 0.03585064935064935\n"
          ]
        },
        {
          "name": "stderr",
          "output_type": "stream",
          "text": [
            "/Users/edricyeo/anaconda3/envs/cs2109s-ay2223s1/lib/python3.9/site-packages/sklearn/neighbors/_classification.py:228: FutureWarning: Unlike other reduction functions (e.g. `skew`, `kurtosis`), the default behavior of `mode` typically preserves the axis it acts along. In SciPy 1.11.0, this behavior will change: the default value of `keepdims` will become False, the `axis` over which the statistic is taken will be eliminated, and the value None will no longer be accepted. Set `keepdims` to True or False to avoid this warning.\n",
            "  mode, _ = stats.mode(_y[neigh_ind, k], axis=1)\n",
            "/Users/edricyeo/anaconda3/envs/cs2109s-ay2223s1/lib/python3.9/site-packages/sklearn/neighbors/_classification.py:228: FutureWarning: Unlike other reduction functions (e.g. `skew`, `kurtosis`), the default behavior of `mode` typically preserves the axis it acts along. In SciPy 1.11.0, this behavior will change: the default value of `keepdims` will become False, the `axis` over which the statistic is taken will be eliminated, and the value None will no longer be accepted. Set `keepdims` to True or False to avoid this warning.\n",
            "  mode, _ = stats.mode(_y[neigh_ind, k], axis=1)\n",
            "/Users/edricyeo/anaconda3/envs/cs2109s-ay2223s1/lib/python3.9/site-packages/sklearn/neighbors/_classification.py:228: FutureWarning: Unlike other reduction functions (e.g. `skew`, `kurtosis`), the default behavior of `mode` typically preserves the axis it acts along. In SciPy 1.11.0, this behavior will change: the default value of `keepdims` will become False, the `axis` over which the statistic is taken will be eliminated, and the value None will no longer be accepted. Set `keepdims` to True or False to avoid this warning.\n",
            "  mode, _ = stats.mode(_y[neigh_ind, k], axis=1)\n",
            "/Users/edricyeo/anaconda3/envs/cs2109s-ay2223s1/lib/python3.9/site-packages/sklearn/neighbors/_classification.py:228: FutureWarning: Unlike other reduction functions (e.g. `skew`, `kurtosis`), the default behavior of `mode` typically preserves the axis it acts along. In SciPy 1.11.0, this behavior will change: the default value of `keepdims` will become False, the `axis` over which the statistic is taken will be eliminated, and the value None will no longer be accepted. Set `keepdims` to True or False to avoid this warning.\n",
            "  mode, _ = stats.mode(_y[neigh_ind, k], axis=1)\n",
            "/Users/edricyeo/anaconda3/envs/cs2109s-ay2223s1/lib/python3.9/site-packages/sklearn/neighbors/_classification.py:228: FutureWarning: Unlike other reduction functions (e.g. `skew`, `kurtosis`), the default behavior of `mode` typically preserves the axis it acts along. In SciPy 1.11.0, this behavior will change: the default value of `keepdims` will become False, the `axis` over which the statistic is taken will be eliminated, and the value None will no longer be accepted. Set `keepdims` to True or False to avoid this warning.\n",
            "  mode, _ = stats.mode(_y[neigh_ind, k], axis=1)\n",
            "/Users/edricyeo/anaconda3/envs/cs2109s-ay2223s1/lib/python3.9/site-packages/sklearn/neighbors/_classification.py:228: FutureWarning: Unlike other reduction functions (e.g. `skew`, `kurtosis`), the default behavior of `mode` typically preserves the axis it acts along. In SciPy 1.11.0, this behavior will change: the default value of `keepdims` will become False, the `axis` over which the statistic is taken will be eliminated, and the value None will no longer be accepted. Set `keepdims` to True or False to avoid this warning.\n",
            "  mode, _ = stats.mode(_y[neigh_ind, k], axis=1)\n",
            "/Users/edricyeo/anaconda3/envs/cs2109s-ay2223s1/lib/python3.9/site-packages/sklearn/neighbors/_classification.py:228: FutureWarning: Unlike other reduction functions (e.g. `skew`, `kurtosis`), the default behavior of `mode` typically preserves the axis it acts along. In SciPy 1.11.0, this behavior will change: the default value of `keepdims` will become False, the `axis` over which the statistic is taken will be eliminated, and the value None will no longer be accepted. Set `keepdims` to True or False to avoid this warning.\n",
            "  mode, _ = stats.mode(_y[neigh_ind, k], axis=1)\n",
            "/Users/edricyeo/anaconda3/envs/cs2109s-ay2223s1/lib/python3.9/site-packages/sklearn/neighbors/_classification.py:228: FutureWarning: Unlike other reduction functions (e.g. `skew`, `kurtosis`), the default behavior of `mode` typically preserves the axis it acts along. In SciPy 1.11.0, this behavior will change: the default value of `keepdims` will become False, the `axis` over which the statistic is taken will be eliminated, and the value None will no longer be accepted. Set `keepdims` to True or False to avoid this warning.\n",
            "  mode, _ = stats.mode(_y[neigh_ind, k], axis=1)\n",
            "/Users/edricyeo/anaconda3/envs/cs2109s-ay2223s1/lib/python3.9/site-packages/sklearn/neighbors/_classification.py:228: FutureWarning: Unlike other reduction functions (e.g. `skew`, `kurtosis`), the default behavior of `mode` typically preserves the axis it acts along. In SciPy 1.11.0, this behavior will change: the default value of `keepdims` will become False, the `axis` over which the statistic is taken will be eliminated, and the value None will no longer be accepted. Set `keepdims` to True or False to avoid this warning.\n",
            "  mode, _ = stats.mode(_y[neigh_ind, k], axis=1)\n",
            "/Users/edricyeo/anaconda3/envs/cs2109s-ay2223s1/lib/python3.9/site-packages/sklearn/neighbors/_classification.py:228: FutureWarning: Unlike other reduction functions (e.g. `skew`, `kurtosis`), the default behavior of `mode` typically preserves the axis it acts along. In SciPy 1.11.0, this behavior will change: the default value of `keepdims` will become False, the `axis` over which the statistic is taken will be eliminated, and the value None will no longer be accepted. Set `keepdims` to True or False to avoid this warning.\n",
            "  mode, _ = stats.mode(_y[neigh_ind, k], axis=1)\n"
          ]
        },
        {
          "name": "stdout",
          "output_type": "stream",
          "text": [
            "Average TPR for k=5: 0.018779220779220777\n"
          ]
        },
        {
          "name": "stderr",
          "output_type": "stream",
          "text": [
            "/Users/edricyeo/anaconda3/envs/cs2109s-ay2223s1/lib/python3.9/site-packages/sklearn/neighbors/_classification.py:228: FutureWarning: Unlike other reduction functions (e.g. `skew`, `kurtosis`), the default behavior of `mode` typically preserves the axis it acts along. In SciPy 1.11.0, this behavior will change: the default value of `keepdims` will become False, the `axis` over which the statistic is taken will be eliminated, and the value None will no longer be accepted. Set `keepdims` to True or False to avoid this warning.\n",
            "  mode, _ = stats.mode(_y[neigh_ind, k], axis=1)\n",
            "/Users/edricyeo/anaconda3/envs/cs2109s-ay2223s1/lib/python3.9/site-packages/sklearn/neighbors/_classification.py:228: FutureWarning: Unlike other reduction functions (e.g. `skew`, `kurtosis`), the default behavior of `mode` typically preserves the axis it acts along. In SciPy 1.11.0, this behavior will change: the default value of `keepdims` will become False, the `axis` over which the statistic is taken will be eliminated, and the value None will no longer be accepted. Set `keepdims` to True or False to avoid this warning.\n",
            "  mode, _ = stats.mode(_y[neigh_ind, k], axis=1)\n",
            "/Users/edricyeo/anaconda3/envs/cs2109s-ay2223s1/lib/python3.9/site-packages/sklearn/neighbors/_classification.py:228: FutureWarning: Unlike other reduction functions (e.g. `skew`, `kurtosis`), the default behavior of `mode` typically preserves the axis it acts along. In SciPy 1.11.0, this behavior will change: the default value of `keepdims` will become False, the `axis` over which the statistic is taken will be eliminated, and the value None will no longer be accepted. Set `keepdims` to True or False to avoid this warning.\n",
            "  mode, _ = stats.mode(_y[neigh_ind, k], axis=1)\n",
            "/Users/edricyeo/anaconda3/envs/cs2109s-ay2223s1/lib/python3.9/site-packages/sklearn/neighbors/_classification.py:228: FutureWarning: Unlike other reduction functions (e.g. `skew`, `kurtosis`), the default behavior of `mode` typically preserves the axis it acts along. In SciPy 1.11.0, this behavior will change: the default value of `keepdims` will become False, the `axis` over which the statistic is taken will be eliminated, and the value None will no longer be accepted. Set `keepdims` to True or False to avoid this warning.\n",
            "  mode, _ = stats.mode(_y[neigh_ind, k], axis=1)\n",
            "/Users/edricyeo/anaconda3/envs/cs2109s-ay2223s1/lib/python3.9/site-packages/sklearn/neighbors/_classification.py:228: FutureWarning: Unlike other reduction functions (e.g. `skew`, `kurtosis`), the default behavior of `mode` typically preserves the axis it acts along. In SciPy 1.11.0, this behavior will change: the default value of `keepdims` will become False, the `axis` over which the statistic is taken will be eliminated, and the value None will no longer be accepted. Set `keepdims` to True or False to avoid this warning.\n",
            "  mode, _ = stats.mode(_y[neigh_ind, k], axis=1)\n",
            "/Users/edricyeo/anaconda3/envs/cs2109s-ay2223s1/lib/python3.9/site-packages/sklearn/neighbors/_classification.py:228: FutureWarning: Unlike other reduction functions (e.g. `skew`, `kurtosis`), the default behavior of `mode` typically preserves the axis it acts along. In SciPy 1.11.0, this behavior will change: the default value of `keepdims` will become False, the `axis` over which the statistic is taken will be eliminated, and the value None will no longer be accepted. Set `keepdims` to True or False to avoid this warning.\n",
            "  mode, _ = stats.mode(_y[neigh_ind, k], axis=1)\n",
            "/Users/edricyeo/anaconda3/envs/cs2109s-ay2223s1/lib/python3.9/site-packages/sklearn/neighbors/_classification.py:228: FutureWarning: Unlike other reduction functions (e.g. `skew`, `kurtosis`), the default behavior of `mode` typically preserves the axis it acts along. In SciPy 1.11.0, this behavior will change: the default value of `keepdims` will become False, the `axis` over which the statistic is taken will be eliminated, and the value None will no longer be accepted. Set `keepdims` to True or False to avoid this warning.\n",
            "  mode, _ = stats.mode(_y[neigh_ind, k], axis=1)\n",
            "/Users/edricyeo/anaconda3/envs/cs2109s-ay2223s1/lib/python3.9/site-packages/sklearn/neighbors/_classification.py:228: FutureWarning: Unlike other reduction functions (e.g. `skew`, `kurtosis`), the default behavior of `mode` typically preserves the axis it acts along. In SciPy 1.11.0, this behavior will change: the default value of `keepdims` will become False, the `axis` over which the statistic is taken will be eliminated, and the value None will no longer be accepted. Set `keepdims` to True or False to avoid this warning.\n",
            "  mode, _ = stats.mode(_y[neigh_ind, k], axis=1)\n",
            "/Users/edricyeo/anaconda3/envs/cs2109s-ay2223s1/lib/python3.9/site-packages/sklearn/neighbors/_classification.py:228: FutureWarning: Unlike other reduction functions (e.g. `skew`, `kurtosis`), the default behavior of `mode` typically preserves the axis it acts along. In SciPy 1.11.0, this behavior will change: the default value of `keepdims` will become False, the `axis` over which the statistic is taken will be eliminated, and the value None will no longer be accepted. Set `keepdims` to True or False to avoid this warning.\n",
            "  mode, _ = stats.mode(_y[neigh_ind, k], axis=1)\n",
            "/Users/edricyeo/anaconda3/envs/cs2109s-ay2223s1/lib/python3.9/site-packages/sklearn/neighbors/_classification.py:228: FutureWarning: Unlike other reduction functions (e.g. `skew`, `kurtosis`), the default behavior of `mode` typically preserves the axis it acts along. In SciPy 1.11.0, this behavior will change: the default value of `keepdims` will become False, the `axis` over which the statistic is taken will be eliminated, and the value None will no longer be accepted. Set `keepdims` to True or False to avoid this warning.\n",
            "  mode, _ = stats.mode(_y[neigh_ind, k], axis=1)\n"
          ]
        },
        {
          "name": "stdout",
          "output_type": "stream",
          "text": [
            "Average TPR for k=7: 0.014805194805194804\n"
          ]
        },
        {
          "name": "stderr",
          "output_type": "stream",
          "text": [
            "/Users/edricyeo/anaconda3/envs/cs2109s-ay2223s1/lib/python3.9/site-packages/sklearn/neighbors/_classification.py:228: FutureWarning: Unlike other reduction functions (e.g. `skew`, `kurtosis`), the default behavior of `mode` typically preserves the axis it acts along. In SciPy 1.11.0, this behavior will change: the default value of `keepdims` will become False, the `axis` over which the statistic is taken will be eliminated, and the value None will no longer be accepted. Set `keepdims` to True or False to avoid this warning.\n",
            "  mode, _ = stats.mode(_y[neigh_ind, k], axis=1)\n",
            "/Users/edricyeo/anaconda3/envs/cs2109s-ay2223s1/lib/python3.9/site-packages/sklearn/neighbors/_classification.py:228: FutureWarning: Unlike other reduction functions (e.g. `skew`, `kurtosis`), the default behavior of `mode` typically preserves the axis it acts along. In SciPy 1.11.0, this behavior will change: the default value of `keepdims` will become False, the `axis` over which the statistic is taken will be eliminated, and the value None will no longer be accepted. Set `keepdims` to True or False to avoid this warning.\n",
            "  mode, _ = stats.mode(_y[neigh_ind, k], axis=1)\n",
            "/Users/edricyeo/anaconda3/envs/cs2109s-ay2223s1/lib/python3.9/site-packages/sklearn/neighbors/_classification.py:228: FutureWarning: Unlike other reduction functions (e.g. `skew`, `kurtosis`), the default behavior of `mode` typically preserves the axis it acts along. In SciPy 1.11.0, this behavior will change: the default value of `keepdims` will become False, the `axis` over which the statistic is taken will be eliminated, and the value None will no longer be accepted. Set `keepdims` to True or False to avoid this warning.\n",
            "  mode, _ = stats.mode(_y[neigh_ind, k], axis=1)\n",
            "/Users/edricyeo/anaconda3/envs/cs2109s-ay2223s1/lib/python3.9/site-packages/sklearn/neighbors/_classification.py:228: FutureWarning: Unlike other reduction functions (e.g. `skew`, `kurtosis`), the default behavior of `mode` typically preserves the axis it acts along. In SciPy 1.11.0, this behavior will change: the default value of `keepdims` will become False, the `axis` over which the statistic is taken will be eliminated, and the value None will no longer be accepted. Set `keepdims` to True or False to avoid this warning.\n",
            "  mode, _ = stats.mode(_y[neigh_ind, k], axis=1)\n",
            "/Users/edricyeo/anaconda3/envs/cs2109s-ay2223s1/lib/python3.9/site-packages/sklearn/neighbors/_classification.py:228: FutureWarning: Unlike other reduction functions (e.g. `skew`, `kurtosis`), the default behavior of `mode` typically preserves the axis it acts along. In SciPy 1.11.0, this behavior will change: the default value of `keepdims` will become False, the `axis` over which the statistic is taken will be eliminated, and the value None will no longer be accepted. Set `keepdims` to True or False to avoid this warning.\n",
            "  mode, _ = stats.mode(_y[neigh_ind, k], axis=1)\n",
            "/Users/edricyeo/anaconda3/envs/cs2109s-ay2223s1/lib/python3.9/site-packages/sklearn/neighbors/_classification.py:228: FutureWarning: Unlike other reduction functions (e.g. `skew`, `kurtosis`), the default behavior of `mode` typically preserves the axis it acts along. In SciPy 1.11.0, this behavior will change: the default value of `keepdims` will become False, the `axis` over which the statistic is taken will be eliminated, and the value None will no longer be accepted. Set `keepdims` to True or False to avoid this warning.\n",
            "  mode, _ = stats.mode(_y[neigh_ind, k], axis=1)\n",
            "/Users/edricyeo/anaconda3/envs/cs2109s-ay2223s1/lib/python3.9/site-packages/sklearn/neighbors/_classification.py:228: FutureWarning: Unlike other reduction functions (e.g. `skew`, `kurtosis`), the default behavior of `mode` typically preserves the axis it acts along. In SciPy 1.11.0, this behavior will change: the default value of `keepdims` will become False, the `axis` over which the statistic is taken will be eliminated, and the value None will no longer be accepted. Set `keepdims` to True or False to avoid this warning.\n",
            "  mode, _ = stats.mode(_y[neigh_ind, k], axis=1)\n",
            "/Users/edricyeo/anaconda3/envs/cs2109s-ay2223s1/lib/python3.9/site-packages/sklearn/neighbors/_classification.py:228: FutureWarning: Unlike other reduction functions (e.g. `skew`, `kurtosis`), the default behavior of `mode` typically preserves the axis it acts along. In SciPy 1.11.0, this behavior will change: the default value of `keepdims` will become False, the `axis` over which the statistic is taken will be eliminated, and the value None will no longer be accepted. Set `keepdims` to True or False to avoid this warning.\n",
            "  mode, _ = stats.mode(_y[neigh_ind, k], axis=1)\n",
            "/Users/edricyeo/anaconda3/envs/cs2109s-ay2223s1/lib/python3.9/site-packages/sklearn/neighbors/_classification.py:228: FutureWarning: Unlike other reduction functions (e.g. `skew`, `kurtosis`), the default behavior of `mode` typically preserves the axis it acts along. In SciPy 1.11.0, this behavior will change: the default value of `keepdims` will become False, the `axis` over which the statistic is taken will be eliminated, and the value None will no longer be accepted. Set `keepdims` to True or False to avoid this warning.\n",
            "  mode, _ = stats.mode(_y[neigh_ind, k], axis=1)\n"
          ]
        },
        {
          "name": "stdout",
          "output_type": "stream",
          "text": [
            "Average TPR for k=9: 0.006262987012987014\n"
          ]
        },
        {
          "name": "stderr",
          "output_type": "stream",
          "text": [
            "/Users/edricyeo/anaconda3/envs/cs2109s-ay2223s1/lib/python3.9/site-packages/sklearn/neighbors/_classification.py:228: FutureWarning: Unlike other reduction functions (e.g. `skew`, `kurtosis`), the default behavior of `mode` typically preserves the axis it acts along. In SciPy 1.11.0, this behavior will change: the default value of `keepdims` will become False, the `axis` over which the statistic is taken will be eliminated, and the value None will no longer be accepted. Set `keepdims` to True or False to avoid this warning.\n",
            "  mode, _ = stats.mode(_y[neigh_ind, k], axis=1)\n"
          ]
        }
      ],
      "source": [
        "k_values = [1, 3, 5, 7, 9]\n",
        "\n",
        "recall_scorer = make_scorer(recall_score, pos_label=1)\n",
        "\n",
        "# Iterate through different k values\n",
        "for k in k_values:\n",
        "    # Create a KNN classifier with the current k value\n",
        "    knn = KNeighborsClassifier(n_neighbors=k)\n",
        "\n",
        "    # Perform 10-fold cross-validation with TPR as the scoring metric\n",
        "    cross_val_results = cross_val_score(knn, X1, y1, cv=10, scoring=recall_scorer)\n",
        "\n",
        "    # Print the average TPR for the current k value\n",
        "    print(f'Average TPR for k={k}: {np.mean(cross_val_results)}')"
      ]
    },
    {
      "cell_type": "markdown",
      "metadata": {
        "id": "OwQ4XqFkwnVO"
      },
      "source": [
        "Weighted KNN"
      ]
    },
    {
      "cell_type": "code",
      "execution_count": 41,
      "metadata": {
        "colab": {
          "base_uri": "https://localhost:8080/"
        },
        "id": "tGkiYjXTwm_w",
        "outputId": "d4b1c97c-8c02-49d7-d90a-d5c65313addb"
      },
      "outputs": [
        {
          "name": "stdout",
          "output_type": "stream",
          "text": [
            "Confusion Matrix [[TN FP] [FN TP]]: [[5861   91]\n",
            " [ 355   14]]\n",
            "accuracy = 0.9294415440594842\n",
            "precision = 0.13333333333333333\n",
            "recall = 0.037940379403794036\n",
            "FPR = 0.015288978494623656\n"
          ]
        }
      ],
      "source": [
        "# Assuming you have X1 and y1 from your code\n",
        "X1_train, X1_test, y1_train, y1_test = train_test_split(X1, y1, test_size=0.2, random_state=101)\n",
        "\n",
        "# Calculate class weights for imbalanced dataset\n",
        "sample_weights = compute_sample_weight(class_weight='balanced', y=y1_train)\n",
        "\n",
        "# Create a KNN classifier with weighted voting\n",
        "knn2 = KNeighborsClassifier(n_neighbors=3, weights='distance')\n",
        "knn2.fit(X1_train, y1_train)\n",
        "pred = knn2.predict(X1_test)\n",
        "\n",
        "conf_matrix = confusion_matrix(y1_test, pred)\n",
        "label = ['not fraud', 'fraud']\n",
        "\n",
        "\n",
        "print('Confusion Matrix [[TN FP] [FN TP]]:', conf_matrix)\n",
        "\n",
        "# Extract values from the confusion matrix\n",
        "TN_2, FP_2, FN_2, TP_2 = conf_matrix.ravel()\n",
        "\n",
        "accuracy_2 = (TP_2 + TN_2) / (TP_2 + TN_2 + FP_2 + FN_2)\n",
        "print(f'accuracy = {accuracy_2}')\n",
        "\n",
        "# Precision\n",
        "precision_2 = TP_2 / (TP_2 + FP_2)\n",
        "print(f'precision = {precision_2}')\n",
        "\n",
        "# True Positive Rate (Sensitivity or Recall)\n",
        "recall_2 = TP_2 / (TP_2 + FN_2)\n",
        "print(f'recall = {recall_2}')\n",
        "\n",
        "# False Positive Rate\n",
        "fpr_2 = FP_2 / (FP_2 + TN_2)\n",
        "print(f'FPR = {fpr_2}')\n"
      ]
    },
    {
      "cell_type": "code",
      "execution_count": 33,
      "metadata": {
        "colab": {
          "base_uri": "https://localhost:8080/",
          "height": 718
        },
        "id": "guxTHczD0AiS",
        "outputId": "e7c56e41-ac07-41b3-c6d9-aaaafad0ee82"
      },
      "outputs": [
        {
          "data": {
            "image/png": "[encoded data removed]",
            "text/plain": [
              "<Figure size 800x800 with 1 Axes>"
            ]
          },
          "metadata": {},
          "output_type": "display_data"
        }
      ],
      "source": [
        "y1_prob = knn2.predict_proba(X1_test)[:, 1]\n",
        "\n",
        "# Compute ROC curve and ROC area\n",
        "fpr_2, tpr_2, thresholds = roc_curve(y1_test, y1_prob)\n",
        "roc_auc = auc(fpr_2, tpr_2)\n",
        "\n",
        "# Plot the ROC curve\n",
        "plt.figure(figsize=(8, 8))\n",
        "plt.plot(fpr_2, tpr_2, color='darkorange', lw=2, label=f'ROC curve (AUC = {roc_auc:.2f})')\n",
        "plt.plot([0, 1], [0, 1], color='navy', lw=2, linestyle='--')\n",
        "plt.xlim([0.0, 1.0])\n",
        "plt.ylim([0.0, 1.05])\n",
        "plt.xlabel('False Positive Rate')\n",
        "plt.ylabel('True Positive Rate')\n",
        "plt.title('Receiver Operating Characteristic (ROC) Curve')\n",
        "plt.legend(loc=\"lower right\")\n",
        "plt.show()"
      ]
    },
    {
      "cell_type": "markdown",
      "metadata": {
        "id": "td-_wcoQml19"
      },
      "source": [
        "XGBoost"
      ]
    },
    {
      "cell_type": "code",
      "execution_count": 44,
      "metadata": {
        "colab": {
          "base_uri": "https://localhost:8080/",
          "height": 245
        },
        "id": "yFdUcCVmmPYE",
        "outputId": "ffc9ff7e-dd67-4589-dafe-5480ec207724"
      },
      "outputs": [
        {
          "ename": "ModuleNotFoundError",
          "evalue": "No module named 'xgboost'",
          "output_type": "error",
          "traceback": [
            "\u001b[0;31m---------------------------------------------------------------------------\u001b[0m",
            "\u001b[0;31mModuleNotFoundError\u001b[0m                       Traceback (most recent call last)",
            "\u001b[1;32m/Users/edricyeo/Desktop/NUS/Y3S1/IT1244/Proj/IT1244_Team45_Project/IT1244_Team45_Project.ipynb Cell 65\u001b[0m line \u001b[0;36m8\n\u001b[1;32m      <a href='vscode-notebook-cell:/Users/edricyeo/Desktop/NUS/Y3S1/IT1244/Proj/IT1244_Team45_Project/IT1244_Team45_Project.ipynb#Y121sZmlsZQ%3D%3D?line=4'>5</a>\u001b[0m \u001b[39m# Split the data into training and test sets\u001b[39;00m\n\u001b[1;32m      <a href='vscode-notebook-cell:/Users/edricyeo/Desktop/NUS/Y3S1/IT1244/Proj/IT1244_Team45_Project/IT1244_Team45_Project.ipynb#Y121sZmlsZQ%3D%3D?line=5'>6</a>\u001b[0m X_train, X_test, y_train, y_test \u001b[39m=\u001b[39m train_test_split(X, y, test_size\u001b[39m=\u001b[39m\u001b[39m0.2\u001b[39m, random_state\u001b[39m=\u001b[39m\u001b[39m42\u001b[39m)\n\u001b[0;32m----> <a href='vscode-notebook-cell:/Users/edricyeo/Desktop/NUS/Y3S1/IT1244/Proj/IT1244_Team45_Project/IT1244_Team45_Project.ipynb#Y121sZmlsZQ%3D%3D?line=7'>8</a>\u001b[0m \u001b[39mfrom\u001b[39;00m \u001b[39mxgboost\u001b[39;00m \u001b[39mimport\u001b[39;00m XGBClassifier\n\u001b[1;32m      <a href='vscode-notebook-cell:/Users/edricyeo/Desktop/NUS/Y3S1/IT1244/Proj/IT1244_Team45_Project/IT1244_Team45_Project.ipynb#Y121sZmlsZQ%3D%3D?line=8'>9</a>\u001b[0m \u001b[39m# Create an instance of the XGBClassifier\u001b[39;00m\n\u001b[1;32m     <a href='vscode-notebook-cell:/Users/edricyeo/Desktop/NUS/Y3S1/IT1244/Proj/IT1244_Team45_Project/IT1244_Team45_Project.ipynb#Y121sZmlsZQ%3D%3D?line=9'>10</a>\u001b[0m model \u001b[39m=\u001b[39m XGBClassifier(objective\u001b[39m=\u001b[39m\u001b[39m'\u001b[39m\u001b[39mbinary:logistic\u001b[39m\u001b[39m'\u001b[39m)\n",
            "\u001b[0;31mModuleNotFoundError\u001b[0m: No module named 'xgboost'"
          ]
        }
      ],
      "source": [
        "# Separate target variable\n",
        "X = df.drop('target', axis=1)\n",
        "y = df['target']\n",
        "\n",
        "# Split the data into training and test sets\n",
        "X_train, X_test, y_train, y_test = train_test_split(X, y, test_size=0.2, random_state=42)\n",
        "\n",
        "# Create an instance of the XGBClassifier \n",
        "model = XGBClassifier(objective='binary:logistic')\n",
        "\n",
        "X_train_not_fraud = X_train[y_train == 0]\n",
        "X_train_fraud = X_train[y_train == 1]\n",
        "# Each time the training set will have the same number of non-fraud and fraud-clients\n",
        "len_split = len(X_train_fraud)\n",
        "\n",
        "\n",
        "for training_round in range(17):\n",
        "    normal_idx = pd.DataFrame({'normal_idx':range(2 * len_split)})\n",
        "    # We randomize the order of the data\n",
        "    random_idx = np.random.permutation(normal_idx.index)\n",
        "    X_train_split = pd.concat( [X_train_fraud, X_train_not_fraud[training_round * len_split : (training_round + 1) * len_split]], axis=0)\n",
        "    y_train_split = pd.DataFrame({'target':[1] * len_split + [0] * len_split})\n",
        "    X_train_split.reset_index(inplace = True, drop = True)\n",
        "    y_train_split.reset_index(inplace = True, drop = True)\n",
        "    X_train_split = X_train_split.reindex(random_idx)\n",
        "    y_train_split = y_train_split.reindex(random_idx)\n",
        "    # Fit the model to the training data\n",
        "    model.fit(X_train_split, y_train_split)\n",
        "\n",
        "y_pred = model.predict(X_test)\n",
        "\n",
        "accuracy = model.score(X_test, y_test)\n",
        "print(\"Accuracy: %.2f%%\" % (accuracy * 100.0))\n",
        "\n",
        "from sklearn.metrics import classification_report\n",
        "\n",
        "# Print classification report\n",
        "print(classification_report(y_test, y_pred))\n",
        "\n",
        "# Compute the confusion matrix.\n",
        "cm = confusion_matrix(y_test,y_pred)\n",
        "\n",
        "# Confusion matrix\n",
        "print(\"Confusion Matrix\")\n",
        "cm = pd.DataFrame(cm)\n",
        "cm.columns = ['Predicted Not Fraud', 'Predicted Fraud']\n",
        "cm.index = ['Actual Not Fraud','Actual Fraud']\n",
        "\n",
        "display(cm)"
      ]
    },
    {
      "cell_type": "markdown",
      "metadata": {
        "id": "OonzrmCqmrjS"
      },
      "source": [
        "**Keras**\n",
        "Reference: https://www.tensorflow.org/tutorials/structured_data/imbalanced_data"
      ]
    }
  ],
  "metadata": {
    "colab": {
      "provenance": []
    },
    "kernelspec": {
      "display_name": "Python 3",
      "language": "python",
      "name": "python3"
    },
    "language_info": {
      "codemirror_mode": {
        "name": "ipython",
        "version": 3
      },
      "file_extension": ".py",
      "mimetype": "text/x-python",
      "name": "python",
      "nbconvert_exporter": "python",
      "pygments_lexer": "ipython3",
      "version": "3.9.9"
    }
  },
  "nbformat": 4,
  "nbformat_minor": 0
}
